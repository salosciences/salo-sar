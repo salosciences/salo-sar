{
 "cells": [
  {
   "cell_type": "code",
   "execution_count": null,
   "metadata": {},
   "outputs": [],
   "source": [
    "import os, sys, gdal\n",
    "%matplotlib inline\n",
    "import matplotlib.pylab as plt\n",
    "import matplotlib.patches as patches\n",
    "from skimage import exposure\n",
    "import numpy as np\n",
    "import pandas as pd"
   ]
  },
  {
   "cell_type": "code",
   "execution_count": null,
   "metadata": {},
   "outputs": [],
   "source": [
    "datadirectory = '../Retrieved Data/wa_v2/BIOsS1'\n",
    "datefile = 'S32631X398020Y1315440sS1_A_vv_0001_mtfil.dates'\n",
    "imagefile='S32631X398020Y1315440sS1_A_vv_0001_mtfil.vrt'\n",
    "imagefile_cross = 'S32631X398020Y1315440sS1_A_vh_0001_mtfil.vrt'"
   ]
  },
  {
   "cell_type": "code",
   "execution_count": null,
   "metadata": {},
   "outputs": [],
   "source": [
    "os.chdir(datadirectory)"
   ]
  },
  {
   "cell_type": "code",
   "execution_count": null,
   "metadata": {},
   "outputs": [],
   "source": [
    "def CreateGeoTiff(Name, Array, DataType, NDV, bandnames = None, ref_image = None,\n",
    "                 GeoT = None, Projection = None):\n",
    "    # If it's a 2D image we fake a third dimension:\n",
    "    if len(Array.shape)==2:\n",
    "        Array = np.array([Array])\n",
    "    if ref_image ==None and (GeoT == None or Projection == None):\n",
    "        raise RuntimeWarning('ref_image or setting required.')\n",
    "    if bandnames != None:\n",
    "        if len(bandnames) != Array.shape[0]:\n",
    "            raise RuntimeError('Need {} bandnames. {} given'\n",
    "                               .format(Array.shape[0], len(bandnames)))\n",
    "    else:\n",
    "        bandnames = ['Band []'.format(i + 1) for i in range(Array.shape[0])]\n",
    "    if ref_image != None:\n",
    "        refimg = gdal.Open(ref_image)\n",
    "        GeoT = refimg.GetGeoTransform()\n",
    "        Projection = refimg.GetProjection()\n",
    "    driver = gdal.GetDriverByName(\"GTIFF\")\n",
    "    Array[np.isnan(Array)] = NDV\n",
    "    DataSet = driver.Create(Name,\n",
    "                           Array.shape[2],Array.shape[1], Array.shape[0], DataType)\n",
    "    DataSet.SetGeoTransform(GeoT)\n",
    "    DataSet.SetProjection(Projection)\n",
    "    for i, image in enumerate(Array, 1):\n",
    "        DataSet.GetRasterBand(i).WriteArray(image)\n",
    "        DataSet.GetRasterBand(i).SetNoDataValue(NDV)\n",
    "        DataSet.SetDescription(bandnames[i-1])\n",
    "    DataSet.FlushCache()\n",
    "    return Name"
   ]
  },
  {
   "cell_type": "code",
   "execution_count": null,
   "metadata": {},
   "outputs": [],
   "source": [
    "def timeseries_metrics(raster, ndv = 0):\n",
    "    # Make us of numpy nan functions\n",
    "    # Check if type is a float array\n",
    "    if not raster.dtype.name.find('float')>-1:\n",
    "        raster = raster.astype(np.flost32)\n",
    "    # Set ndv to nan\n",
    "    if ndv != np.nan:\n",
    "        raster[np.equal(raster, ndv)] = np.nan\n",
    "    # Build dictionary of the metircs\n",
    "    tsmetrics = {}\n",
    "    rperc = np.nanpercentile(raster, [5, 50, 95], axis = 0)\n",
    "    tsmetrics['mean'] = np.nanmean(raster, axis = 0)\n",
    "    tsmetrics['max'] = np.nanmax(raster, axis = 0)\n",
    "    tsmetrics['min'] = np.nanmin(raster, axis = 0)\n",
    "    tsmetrics['range'] = tsmetrics['max'] - tsmetrics['min']\n",
    "    tsmetrics['median'] = rperc[1]\n",
    "    tsmetrics['p5'] = rperc[0]\n",
    "    tsmetrics['p95'] = rperc[2]\n",
    "    tsmetrics['prange'] = rperc[2] - rperc[0]\n",
    "    tsmetrics['var'] = np.nanvar(raster, axis = 0)\n",
    "    tsmetrics['cov'] = tsmetrics['var']/tsmetrics['mean']\n",
    "    return tsmetrics"
   ]
  },
  {
   "cell_type": "code",
   "execution_count": null,
   "metadata": {},
   "outputs": [],
   "source": [
    "#  Get the date indices via pandas\n",
    "dates = open(datefile).readlines()\n",
    "tindex = pd.DatetimeIndex(dates)\n",
    "j = 1\n",
    "print('Bands and dates for', imagefile)\n",
    "for i in tindex:\n",
    "    print(\"{:4d} {}\".format(j, i.date()), end = ' ')\n",
    "    j += 1\n",
    "    if j%5 == 1: print()"
   ]
  },
  {
   "cell_type": "code",
   "execution_count": null,
   "metadata": {},
   "outputs": [],
   "source": [
    "img = gdal.Open(imagefile)\n",
    "img.RasterCount, img.RasterYSize, img.RasterYSize"
   ]
  },
  {
   "cell_type": "code",
   "execution_count": null,
   "metadata": {},
   "outputs": [],
   "source": [
    "subset = (1500, 0, 500, 500) # (xoff, yoff, xsize, ysize)\n",
    "bandnbr = 1\n",
    "\n",
    "rasterDN = img.GetRasterBand(bandnbr).ReadAsArray()\n",
    "fig, ax = plt.subplots(figsize = (8,8))\n",
    "ax.set_title('Sentinel-1 C-VV, NIGER!!!!!, {}'\n",
    "            .format(tindex[bandnbr-1].date()))\n",
    "ax.imshow(rasterDN, cmap = 'gray', vmin = 2000, vmax = 8000)\n",
    "ax.grid(color = 'blue')\n",
    "ax.set_xlabel('Pixels')\n",
    "ax.set_ylabel('Lines')\n",
    "# plot the subset as rectang;e\n",
    "if subset != None:\n",
    "    _ = ax.add_patch(patches.Rectangle((subset[0], subset[1]),\n",
    "                                      subset[2], subset[3],\n",
    "                                      fill = False, edgecolor = 'red',\n",
    "                                      linewidth = 3))"
   ]
  },
  {
   "cell_type": "code",
   "execution_count": null,
   "metadata": {},
   "outputs": [],
   "source": [
    "rasterDN = img.ReadAsArray(*subset)\n",
    "mask = rasterDN == 0\n",
    "CF = np.power(10.,-8.3)\n",
    "rasterPwr = np.ma.array(np.power(rasterDN, 2.)*CF, mask = mask, dtype = np.float32)"
   ]
  },
  {
   "cell_type": "code",
   "execution_count": null,
   "metadata": {},
   "outputs": [],
   "source": [
    "rgb_bands = (1, int(img.RasterCount/2), img.RasterCount) # first, center, last band\n",
    "rgb_bands = (1, 10, 40)\n",
    "rgb_bands = (18, 45, 74)\n",
    "rgb_idx = np.array(rgb_bands) - 1 # gets array index from bands by subtracting 1\n",
    "rgb = np.dstack((rasterPwr[rgb_idx[0]], rasterPwr[rgb_idx[1]], rasterPwr[rgb_idx[2]]))\n",
    "rgb_dates = (tindex[rgb_idx[0]].date(),\n",
    "            tindex[rgb_idx[1]].date(), tindex[rgb_idx[2]].date())"
   ]
  },
  {
   "cell_type": "code",
   "execution_count": null,
   "metadata": {},
   "outputs": [],
   "source": [
    "rgb_stretched = rgb.copy()\n",
    "# For each band we apply the stretch\n",
    "for i in range(rgb_stretched.shape[2]):\n",
    "    rgb_stretched[:,:,i] = exposure.\\\n",
    "    equalize_hist(rgb_stretched[:,:,i].data,\n",
    "    mask = ~np.equal(rgb_stretched[:,:,i].data,0.))"
   ]
  },
  {
   "cell_type": "code",
   "execution_count": null,
   "metadata": {},
   "outputs": [],
   "source": [
    "fig, ax = plt.subplots(1, 2, figsize = (16, 8))\n",
    "fig.suptitle('Multi-temporal Sentinel-1 backscatter image R:{} G:{} B:{}'\n",
    "            .format(rgb_dates[0],rgb_dates[1],rgb_dates[2]))\n",
    "plt.axis('off')\n",
    "ax[0].imshow(rgb)\n",
    "ax[0].set_title('Unstretched')\n",
    "ax[0].axis('off')\n",
    "ax[1].imshow(rgb_stretched)\n",
    "ax[1].set_title('Histogram Equalized')\n",
    "_ = ax[1].axis('off')"
   ]
  },
  {
   "cell_type": "code",
   "execution_count": null,
   "metadata": {},
   "outputs": [],
   "source": [
    "metrics = timeseries_metrics(rasterPwr.filled(np.nan), ndv = np.nan)"
   ]
  },
  {
   "cell_type": "code",
   "execution_count": null,
   "metadata": {},
   "outputs": [],
   "source": [
    "#  Print out what the vaious metrics keys are\n",
    "metrics.keys()"
   ]
  },
  {
   "cell_type": "code",
   "execution_count": null,
   "metadata": {},
   "outputs": [],
   "source": [
    "fig, ax = plt.subplots(1, 2, figsize = (16, 4))\n",
    "ax[0].hist(metrics['var'].flatten(), bins = 100)\n",
    "ax[1].hist(metrics['cov'].flatten(), bins = 100)\n",
    "_ = ax[0].set_title('Variance')\n",
    "_ = ax[1].set_title('Coefficient of Variation')"
   ]
  },
  {
   "cell_type": "code",
   "execution_count": null,
   "metadata": {},
   "outputs": [],
   "source": [
    "# List the metric keys you want to plot\n",
    "metric_keys = ['mean', 'median', 'max', 'min', 'p95', 'p5', 'range', 'prange', 'var', 'cov']\n",
    "fig = plt.figure(figsize = (16, 40))\n",
    "idx = 1\n",
    "for i in metric_keys:\n",
    "    ax = fig.add_subplot(5, 2, idx)\n",
    "    if i == 'var' : vmin , vmax = (0.0, 0.005)\n",
    "    elif i == 'cov' : vmin, vmax = (0., 0.04)\n",
    "    else:\n",
    "        vmin, vmax = (0.0001, 0.3)\n",
    "    ax.imshow(metrics[i], vmin = vmin, vmax = vmax, cmap = 'gray')\n",
    "    ax.set_title(i.upper())\n",
    "    ax.axis('off')\n",
    "    idx +=1"
   ]
  },
  {
   "cell_type": "code",
   "execution_count": null,
   "metadata": {},
   "outputs": [],
   "source": [
    "plt.hist(metrics['range'].flatten(), bins = 100, range = (0.,0.3))\n",
    "_ = plt.axvline(0.27, color = 'red')"
   ]
  },
  {
   "cell_type": "code",
   "execution_count": null,
   "metadata": {},
   "outputs": [],
   "source": [
    "thres = 0.25\n",
    "plt.figure(figsize = (8,8))\n",
    "mask = metrics['range']<thres # For display we prepare the inverse mask\n",
    "maskpdiff = ~mask # Store this for later output\n",
    "plt.imshow(mask, cmap = 'gray')\n",
    "plt.legend(['$p_{95} - p_5 > 0.15$'], loc = 'center right')\n",
    "_ = plt.title('Threshold Classifier on Percentile Difference ($P_{95} - P_5 > 0.15$)')"
   ]
  },
  {
   "cell_type": "code",
   "execution_count": null,
   "metadata": {},
   "outputs": [],
   "source": [
    "plt.hist(metrics['cov'].flatten(), bins = 100, range = (0,0.05))\n",
    "_ = plt.axvline(0.025, color = 'red')"
   ]
  },
  {
   "cell_type": "code",
   "execution_count": null,
   "metadata": {},
   "outputs": [],
   "source": [
    "thres = 0.025\n",
    "mask = metrics['cov'] < thres\n",
    "maskcv = ~mask\n",
    "plt.figure(figsize = (8,8))\n",
    "plt.imshow(mask, cmap = 'gray')\n",
    "_ = plt.title('Threshold Classifier on the Time Series Coefficient of Variation')"
   ]
  },
  {
   "cell_type": "code",
   "execution_count": null,
   "metadata": {},
   "outputs": [],
   "source": [
    "tsmean = 10*np.log10(np.nanmean(rasterPwr.filled(np.nan), axis = (1, 2)))"
   ]
  },
  {
   "cell_type": "code",
   "execution_count": null,
   "metadata": {},
   "outputs": [],
   "source": [
    "ts = pd.Series(tsmean, index = tindex)\n",
    "for i in range(len(ts)):\n",
    "    print(i, ts.index[i].date(), ts[i])"
   ]
  },
  {
   "cell_type": "code",
   "execution_count": null,
   "metadata": {},
   "outputs": [],
   "source": [
    "Xr = rasterPwr[19]\n",
    "Xi = rasterPwr[76]"
   ]
  },
  {
   "cell_type": "code",
   "execution_count": null,
   "metadata": {},
   "outputs": [],
   "source": [
    "r = np.log10(Xi/Xr)"
   ]
  },
  {
   "cell_type": "code",
   "execution_count": null,
   "metadata": {},
   "outputs": [],
   "source": [
    "#  Display r\n",
    "fig, ax = plt.subplots(2, 1, figsize = (8, 16))\n",
    "ax[0].axis('off')\n",
    "ax[0].imshow(np.abs(r), vmin = 0, vmax = 0.3, cmap = 'gray')\n",
    "_ = ax[1].hist(r.flatten(), bins = 100, range = (-0.4,0.4))"
   ]
  },
  {
   "cell_type": "code",
   "execution_count": null,
   "metadata": {},
   "outputs": [],
   "source": [
    "stddev = np.std(r)\n",
    "thres = 3* stddev\n",
    "mask = np.logical_and(r>-1*thres, r<thres)\n",
    "masklr = ~mask"
   ]
  },
  {
   "cell_type": "code",
   "execution_count": null,
   "metadata": {},
   "outputs": [],
   "source": [
    "fig, ax = plt.subplots(figsize = (8, 16))\n",
    "ax.imshow(mask, cmap = 'gray')\n",
    "ax.xaxis.set_ticks([])\n",
    "ax.yaxis.set_ticks([])\n",
    "_ = ax.set_title('Log Ratio Classifies of the October 2016/2017 Log Ratio Images')"
   ]
  },
  {
   "cell_type": "code",
   "execution_count": null,
   "metadata": {},
   "outputs": [],
   "source": [
    "proj = img.GetProjection()\n",
    "geotrans = list(img.GetGeoTransform())\n",
    "\n",
    "subset_xoff = geotrans[0] + subset[0] * geotrans[1]\n",
    "subset_yoff = geotrans[3] + subset[1] * geotrans[5]\n",
    "geotrans[0] = subset_xoff\n",
    "geotrans[3] = subset_yoff\n",
    "geotrans  = tuple(geotrans)\n",
    "geotrans"
   ]
  },
  {
   "cell_type": "code",
   "execution_count": null,
   "metadata": {},
   "outputs": [],
   "source": [
    "# Time Series Metrics as image:\n",
    "# We make a new subdirectory where we will store the images\n",
    "dirname = imagefile.replace('.vrt', '_tsmetrics2')\n",
    "os.makedirs(dirname, exist_ok = True)\n",
    "print(dirname)"
   ]
  },
  {
   "cell_type": "code",
   "execution_count": null,
   "metadata": {},
   "outputs": [],
   "source": [
    "Names = [] #List to keep track of all the names\n",
    "for i in metrics:\n",
    "    # Name, Array, DataType, NDV, bandnames = None, ref_image\n",
    "    Name = os.path.join(dirname, imagefile.replace('.vrt', '_' +i+ '.tif'))\n",
    "    CreateGeoTiff(Name, metrics[i], gdal.GDT_Float32, np.nan, [i], GeoT = geotrans, Projection = proj)\n",
    "    Names.append(Name)"
   ]
  },
  {
   "cell_type": "code",
   "execution_count": null,
   "metadata": {},
   "outputs": [],
   "source": [
    "cmd = 'gdalbuildvrt -seperate -overwrite -vrtnodata nan '+\\\n",
    "    dirname+ '.vrt ' + ' '.join(Names)\n",
    "# print(cmd)\n",
    "os.system(cmd)"
   ]
  },
  {
   "cell_type": "code",
   "execution_count": null,
   "metadata": {},
   "outputs": [],
   "source": [
    "os.getcwd()"
   ]
  },
  {
   "cell_type": "code",
   "execution_count": null,
   "metadata": {},
   "outputs": [],
   "source": [
    "print('Time Series Metrics VRT Fole:\\n',dirname+'.vrt')"
   ]
  },
  {
   "cell_type": "code",
   "execution_count": null,
   "metadata": {},
   "outputs": [],
   "source": [
    "imagename = imagefile.replace('.vrt', '_thresholds.tif')\n",
    "bandnames = ['Percentile', 'COV', 'Log Ratio']\n",
    "Array = np.array([maskpdiff, maskcv, masklr])\n",
    "CreateGeoTiff(imagename, Array, gdal.GDT_Byte, 0, bandnames, GeoT = geotrans, Projection = proj)"
   ]
  }
 ],
 "metadata": {
  "kernelspec": {
   "display_name": "Python 3",
   "language": "python",
   "name": "python3"
  },
  "language_info": {
   "codemirror_mode": {
    "name": "ipython",
    "version": 3
   },
   "file_extension": ".py",
   "mimetype": "text/x-python",
   "name": "python",
   "nbconvert_exporter": "python",
   "pygments_lexer": "ipython3",
   "version": "3.8.6"
  }
 },
 "nbformat": 4,
 "nbformat_minor": 4
}
