{
 "cells": [
  {
   "cell_type": "markdown",
   "metadata": {},
   "source": [
    "# VRTs: Stack Sentinel-1 RTC products into time series data"
   ]
  },
  {
   "cell_type": "markdown",
   "metadata": {},
   "source": [
    "This jupyter notebook describes how to stack Sentinel-1 data into time series with Virtual Raster Tables"
   ]
  },
  {
   "cell_type": "code",
   "execution_count": null,
   "metadata": {},
   "outputs": [],
   "source": [
    "# Import python modules\n",
    "import os, sys\n",
    "import datetime\n",
    "import glob\n",
    "import subprocess as sp\n",
    "import tempfile\n",
    "import gdal"
   ]
  },
  {
   "cell_type": "markdown",
   "metadata": {},
   "source": [
    "Set the root and RTC directories for gdalbuildvrt"
   ]
  },
  {
   "cell_type": "code",
   "execution_count": null,
   "metadata": {},
   "outputs": [],
   "source": [
    "# Set DryRun to True for a list of the gdalbuildvrt commands only without making the call\n",
    "DryRun=False\n",
    "\n",
    "# Give the root directory where the subdirectories containing the RTC files are stored\n",
    "rootdir='../Retrieved Data/SAR_CH3/wa_v2/BIOsS1'\n",
    "\n",
    "# Give list of RTC directories relative to the rootdir\n",
    "rtcdirs=['S32631X398020Y1315440sS1_A_vh_mtfil','S32631X398020Y1315440sS1_A_vv_mtfil']\n",
    "\n",
    "# Give a target extent in projection coordinates\n",
    "targetextent=None\n",
    "\n",
    "# Give targetextent as \"xmin ymin xmax ymax\"\n",
    "# targetextent=\"398020.000 1315440.000 482880.000 1390960.000 \""
   ]
  },
  {
   "cell_type": "markdown",
   "metadata": {},
   "source": [
    "Define a function to find all RTC files in a directory"
   ]
  },
  {
   "cell_type": "code",
   "execution_count": null,
   "metadata": {},
   "outputs": [],
   "source": [
    "def make_timeseries_vrt(rootdir,subdir,targetextent=None,prefix='',DryRun=False):\n",
    "    '''\n",
    "    Make a vrt stack from time series data stored in a subdirectory \n",
    "\n",
    "    Author: Josef Kellndorfer (2018)\n",
    "\n",
    "    INPUT:\n",
    "    rootdir        Path to the root directory where the subdirectory is stored\n",
    "    subdir         Name of the subdirectory containing the time series data as geotiffs (.tif ending)\n",
    "    targetextent   None or string as \"xmin ymin xmax ymax\" in projection units\n",
    "    prefix         Optional prefix for the vrt filename. Default is subdirectory name with .vrt ending\n",
    "    DryRun         prints only the gdalbuild command with out executing it\n",
    "\n",
    "    \n",
    "\n",
    "    Will generate .vrt time series stacks with bands named by dates. \n",
    "    '''\n",
    "\n",
    "    # Get current vorking directory and change to the root directory\n",
    "    cwd=os.getcwd()\n",
    "    os.chdir(rootdir)\n",
    "\n",
    "    imagelist = [x for x in glob.glob(os.path.join(subdir,'*.tif'))]\n",
    "    # Get index for a valid date in the '_' separated list\n",
    "    first=imagelist[0].split('_')\n",
    "    for i in range(len(first)):\n",
    "        try:\n",
    "            datetime.datetime.strptime(first[i],'%Y%m%d')\n",
    "            idx = i\n",
    "        except ValueError:\n",
    "            next\n",
    "    # Now get the dates for all the files\n",
    "    dates = [x.split('_')[idx] for x in imagelist]\n",
    "    # Sort by dates and resort the imagelist accordingly\n",
    "    datessorted = dates.copy()\n",
    "    datessorted.sort()\n",
    "    indices = [dates.index(x) for x in datessorted]\n",
    "    imagelistsorted = [imagelist[x] for x in indices]\n",
    "\n",
    "    # Get all the distict paths\n",
    "    paths=[x.split('_')[idx+1] for x in imagelistsorted]\n",
    "    distinct_paths=set(paths)\n",
    "\n",
    "    # We make a directory with vrtnames and have filelists as the entry\n",
    "    vrtnames={}\n",
    "\n",
    "    # Make a vrtname for the entire stack. We use the subdir name as the root for the vrt file:\n",
    "    vrtname = prefix + subdir + '.vrt'\n",
    "    vrtnames[vrtname] = {'filenames':imagelist, 'dates':dates}\n",
    "\n",
    "    # Now make vrtnames and corresponding lists for files and dates by path:\n",
    "    for p in distinct_paths:\n",
    "        # Get the subset of the imagelist that corresponds to this path:\n",
    "        imagelist_subset=[x for x in imagelistsorted if x.find('_'+p+'_')>-1]\n",
    "        dates_subset=[x.split('_')[idx] for x in imagelist_subset]\n",
    "        # VRT name is constructed from the first filename in the rtc list without the \n",
    "        vrtname=prefix+subdir+'_'+p+'.vrt'\n",
    "        vrtnames[vrtname]={'filenames':imagelist_subset, 'dates':dates_subset}\n",
    "\n",
    "    # Now build the vrts:\n",
    "    if targetextent==None:\n",
    "        te=''\n",
    "    else:\n",
    "        te='-te '+ targetextent\n",
    "\n",
    "    for i in vrtnames:\n",
    "        tfile=tempfile.NamedTemporaryFile(mode='w+',delete=False)\n",
    "        for j in vrtnames[i]['filenames']:\n",
    "            tfile.write(j+'\\n')\n",
    "        tfile.close()\n",
    "        cmd='gdalbuildvrt -separate -allow_projection_difference {} -input_file_list {} -overwrite {}'.format(te,tfile.name,i)\n",
    "        if not DryRun:\n",
    "            sp.call(cmd.split())\n",
    "            # Write the dates files\n",
    "            datefilename=i.replace('.vrt','.dates')\n",
    "            with open(datefilename,\"w+\") as f:\n",
    "                for j in vrtnames[i]['dates']:\n",
    "                    f.write(j+'\\n')\n",
    "            # Set the band names as dates\n",
    "            img_handle=gdal.Open(i)\n",
    "            for j in range(img_handle.RasterCount):\n",
    "                x=vrtnames[i]['dates'][j]\n",
    "                # Reformat YYYYMMDD to YYYY-MM-DD\n",
    "                date=x[:4]+'-'+x[4:6]+'-'+x[6:8]\n",
    "                # Set the Metadata and Description to the date\n",
    "                band=img_handle.GetRasterBand(j+1)\n",
    "                band.SetMetadataItem(\"Date\",date)\n",
    "                band.SetDescription(date)\n",
    "            del img_handle\n",
    "        else:\n",
    "            print('DryRun:',end=' ')\n",
    "        print(cmd)\n",
    "\n",
    "        os.remove(tfile.name)\n",
    "    # Switch back to the original working directory\n",
    "    os.chdir(cwd)"
   ]
  },
  {
   "cell_type": "code",
   "execution_count": null,
   "metadata": {},
   "outputs": [],
   "source": [
    "for i in rtcdirs:\n",
    "    make_timeseries_vrt(rootdir,i,prefix='',DryRun=False)"
   ]
  }
 ],
 "metadata": {
  "kernelspec": {
   "display_name": "Python 3",
   "language": "python",
   "name": "python3"
  },
  "language_info": {
   "codemirror_mode": {
    "name": "ipython",
    "version": 3
   },
   "file_extension": ".py",
   "mimetype": "text/x-python",
   "name": "python",
   "nbconvert_exporter": "python",
   "pygments_lexer": "ipython3",
   "version": "3.8.6"
  }
 },
 "nbformat": 4,
 "nbformat_minor": 4
}
