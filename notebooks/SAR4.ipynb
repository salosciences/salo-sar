{
 "cells": [
  {
   "cell_type": "code",
   "execution_count": null,
   "metadata": {},
   "outputs": [],
   "source": [
    "# Importing relevant python packages\n",
    "import pandas as pd\n",
    "import gdal\n",
    "import numpy as np\n",
    "import time, os\n",
    "\n",
    "# For plotting\n",
    "%matplotlib inline\n",
    "import matplotlib.pylab as plt\n",
    "import matplotlib.patches as patches\n",
    "\n",
    "font = {'family' : 'monospace',\n",
    "        'weight' : 'bold',\n",
    "        'size'   : 18}\n",
    "plt.rc('font', **font)"
   ]
  },
  {
   "cell_type": "code",
   "execution_count": null,
   "metadata": {},
   "outputs": [],
   "source": [
    "datadirectory = '/Volumes/Salo/Salo_ai/SAR_CH3/wa_v2/cra'\n",
    "datefile = 'S32631X402380Y1491460sS1_A_vv_0001_A_mtfil.dates'\n",
    "imagefile='S32631X402380Y1491460sS1_A_vv_0001_A_mtfil.vrt'"
   ]
  },
  {
   "cell_type": "code",
   "execution_count": null,
   "metadata": {},
   "outputs": [],
   "source": [
    "# Switch to the data directory\n",
    "os.chdir(datadirectory)"
   ]
  },
  {
   "cell_type": "code",
   "execution_count": null,
   "metadata": {},
   "outputs": [],
   "source": [
    "dates = open(datefile).readlines()\n",
    "tindex = pd.DatetimeIndex(dates)\n",
    "j = 1\n",
    "print('Bands and dates for', imagefile)\n",
    "for i in tindex:\n",
    "    print(\"{:4d} {}\".format(j, i.date()), end = ' ')\n",
    "    j+=1\n",
    "    if j % 5 == 1: print()"
   ]
  },
  {
   "cell_type": "code",
   "execution_count": null,
   "metadata": {},
   "outputs": [],
   "source": [
    "rasterstack = gdal.Open(imagefile).ReadAsArray()"
   ]
  },
  {
   "cell_type": "code",
   "execution_count": null,
   "metadata": {},
   "outputs": [],
   "source": [
    "# 1. Converstion to Power\n",
    "caldB = -83\n",
    "calPwr = np.power(10., caldB/10.)\n",
    "rasterstack_pwr = np.power(rasterstack, 2.) * calPwr\n",
    "# 2. compute Means\n",
    "rs_means_pwr = np.mean(rasterstack_pwr, axis = (1, 2))\n",
    "# 3. Convert to dB\n",
    "rs_means_dB = 10.*np.log10(rs_means_pwr)"
   ]
  },
  {
   "cell_type": "code",
   "execution_count": null,
   "metadata": {},
   "outputs": [],
   "source": [
    "# 4. Make a pandas time series object\n",
    "ts = pd.Series(rs_means_dB, index = tindex)"
   ]
  },
  {
   "cell_type": "code",
   "execution_count": null,
   "metadata": {},
   "outputs": [],
   "source": [
    "# 5. Use the pandas plot function of the time series object to plot \n",
    "# Put band numbers as data point labels\n",
    "plt.figure(figsize = (16, 8))\n",
    "ts.plot()\n",
    "x1 = plt.xlabel('Date')\n",
    "y1 = plt.ylabel('$\\overline{\\gamma^o}$ [dB]')\n",
    "for xyb in zip(ts.index, rs_means_dB, range(1, len(ts)+1)):\n",
    "    plt.annotate(xyb[2], xy = xyb[0:2])"
   ]
  },
  {
   "cell_type": "code",
   "execution_count": null,
   "metadata": {},
   "outputs": [],
   "source": [
    "def showImage(rasterstack,tindex,bandnbr,subset=None,vmin=None,vmax=None):\n",
    "    '''Input:\n",
    "    rasterstack stack of images in SAR power units\n",
    "    tindex time series date index\n",
    "    bandnbr bandnumber of the rasterstack to dissplay'''\n",
    "    fig = plt.figure(figsize=(16,8))\n",
    "    ax1 = fig.add_subplot(121)\n",
    "    ax2 = fig.add_subplot(122)\n",
    "    # If vmin or vmax are None we use percentiles as limits:\n",
    "    if vmin==None: vmin=np.percentile(rasterstack[bandnbr-1].flatten(),5)\n",
    "    if vmax==None: vmax=np.percentile(rasterstack[bandnbr-1].flatten(),95)\n",
    "    ax1.imshow(rasterstack[bandnbr-1],cmap='gray',vmin=vmin,vmax=vmax)\n",
    "    ax1.set_title('Image Band {} {}'.format(bandnbr,tindex[bandnbr-1].date()))\n",
    "    if subset== None:\n",
    "        bands,ydim,xdim=rasterstack.shape\n",
    "        subset=(0,0,xdim,ydim)\n",
    "    \n",
    "    ax1.add_patch(patches.Rectangle((subset[0],subset[1]),subset[2],subset[3],fill=False,edgecolor='red'))\n",
    "    ax1.xaxis.set_label_text('Pixel')\n",
    "    ax1.yaxis.set_label_text('Line')\n",
    "    ts_pwr=np.mean(rasterstack[:,subset[1]:(subset[1]+subset[3]),\n",
    "                               subset[0]:(subset[0]+subset[2])],axis=(1,2))\n",
    "    ts_dB=10.*np.log10(ts_pwr)\n",
    "    ax2.plot(tindex,ts_dB)\n",
    "    ax2.yaxis.set_label_text('$\\gamma^o$ [dB]')\n",
    "    ax2.set_title('$\\gamma^o$ Backscatter Time Series')\n",
    "    # Add a vertical line for the date where the image is displayed\n",
    "    ax2.axvline(tindex[bandnbr-1],color='red')\n",
    "    fig.autofmt_xdate()"
   ]
  },
  {
   "cell_type": "code",
   "execution_count": null,
   "metadata": {},
   "outputs": [],
   "source": [
    "def timeSeries(rasterstack_pwr,tindex,subset,ndv=0.):\n",
    "    # Extract the means along the time series axes\n",
    "    # raster shape is time steps, lines, pixels.\n",
    "    # With axis=1,2, we average lines and pixels for each time\n",
    "    # step (axis 0)\n",
    "    raster=rasterstack_pwr.copy()\n",
    "    if ndv != np.nan: raster[np.equal(raster,ndv)]=np.nan\n",
    "    ts_pwr=np.nanmean(raster[:,subset[1]:(subset[1]+subset[3]),\n",
    "                             subset[0]:(subset[0]+subset[2])],axis=(1,2))\n",
    "    # convert the means to dB\n",
    "    ts_dB=10.*np.log10(ts_pwr)\n",
    "    # make the pandas time series object\n",
    "    ts = pd.Series(ts_dB,index=tindex)\n",
    "    # return it\n",
    "    return ts"
   ]
  },
  {
   "cell_type": "code",
   "execution_count": null,
   "metadata": {},
   "outputs": [],
   "source": [
    "subset = (5, 20, 5, 5)\n",
    "ts = timeSeries(rasterstack_pwr, tindex, subset)\n",
    "tsdf = pd.DataFrame(ts, index = ts.index, columns = ['g0'])\n",
    "\n",
    "#  Plot \n",
    "ylim = (-20, -5)\n",
    "tsdf.plot(figsize = (16,4))\n",
    "plt.title('Sentinel-1 C-VV Time Series Backscatter Profile, Subset: 5, 20, 5, 5  ')\n",
    "plt.ylabel('$\\gamma^o$ [dB]')\n",
    "plt.ylim(ylim)\n",
    "_ = plt.legend([\"C-VV Time Series\"])"
   ]
  },
  {
   "cell_type": "code",
   "execution_count": null,
   "metadata": {},
   "outputs": [],
   "source": [
    "tsdf_sub1 = tsdf[tsdf.index>'2015-11-01']\n",
    "\n",
    "#  Plot\n",
    "tsdf_sub1.plot(figsize  = (16,4))\n",
    "plt.title('Sentinel-1 C-VV Time Series Backscatter Profile, Subset: {}'.format(subset))\n",
    "plt.ylabel('$\\gamma^o$ [dB]')\n",
    "plt.ylim(ylim)\n",
    "_ = plt.legend([\"C-VV Time Series\"])"
   ]
  },
  {
   "cell_type": "code",
   "execution_count": null,
   "metadata": {},
   "outputs": [],
   "source": [
    "tsdf_sub2 = tsdf_sub1[\n",
    "    np.logical_and(tsdf_sub1.index.month>=3, tsdf_sub1.index.month<=5)\n",
    "]\n",
    "\n",
    "# Plot \n",
    "fig, ax = plt.subplots(figsize = (16,4))\n",
    "tsdf_sub2.plot(ax = ax)\n",
    "plt.title('Sentinel-1 C-VV Time Series Backscatter Profile, Subset: {}'.format(subset))\n",
    "plt.ylabel('$\\gamma^o$ [dB]')\n",
    "plt.ylim(ylim)\n",
    "_ = plt.legend(['March-May'])"
   ]
  },
  {
   "cell_type": "code",
   "execution_count": null,
   "metadata": {},
   "outputs": [],
   "source": [
    "tsdf_sub3 = tsdf_sub1[np.invert(\n",
    "    np.logical_and(tsdf_sub1.index.month>=3, tsdf_sub1.index.month<=5))]\n",
    "\n",
    "# Plot\n",
    "fig, ax = plt.subplots(figsize = (16,4))\n",
    "tsdf_sub3.plot(ax = ax)\n",
    "plt.title('Sentinel-1 C-VV Time Series Backscatter Profile, Subset: {}'.format(subset))\n",
    "plt.ylim(ylim)\n",
    "plt.ylabel('$\\gamma^o$ [dB]')\n",
    "_ = plt.legend([\"June - February\"])"
   ]
  },
  {
   "cell_type": "code",
   "execution_count": null,
   "metadata": {},
   "outputs": [],
   "source": [
    "ts_sub_by_year = tsdf_sub1.groupby(pd.Grouper(freq = \"Y\"))"
   ]
  },
  {
   "cell_type": "code",
   "execution_count": null,
   "metadata": {},
   "outputs": [],
   "source": [
    "fig, ax = plt.subplots(figsize=(16,4))\n",
    "for label, df in ts_sub_by_year:\n",
    "    df.g0.plot(ax = ax, label = label.year)\n",
    "plt.legend()\n",
    "# ts_sub_by_year.plot(ax = ax)\n",
    "plt.title('Sentinel-1 C-VV Time Series Backscatter Profile, Subset: {}'.format(subset))\n",
    "plt.ylabel('$\\gamma^o$ [dB]')\n",
    "plt.ylim(ylim)"
   ]
  },
  {
   "cell_type": "code",
   "execution_count": null,
   "metadata": {},
   "outputs": [],
   "source": [
    "# Add doy\n",
    "tsdf_sub1 = tsdf_sub1.assign(doy = tsdf_sub1.index.dayofyear)\n",
    "# Add Year\n",
    "tsdf_sub1 = tsdf_sub1.assign(year = tsdf_sub1.index.year)"
   ]
  },
  {
   "cell_type": "code",
   "execution_count": null,
   "metadata": {},
   "outputs": [],
   "source": [
    "piv = pd.pivot_table(tsdf_sub1, index = ['doy'], columns = ['year'], values = ['g0'])\n",
    "# Set the names for the column indices\n",
    "piv.columns.set_names(['g0', 'Year'],inplace = True)\n",
    "print(piv.head(10))\n",
    "print('...\\n', piv.tail(10))"
   ]
  },
  {
   "cell_type": "code",
   "execution_count": null,
   "metadata": {},
   "outputs": [],
   "source": [
    "piv.columns.set_names(['g0', 'year'], inplace = True)"
   ]
  },
  {
   "cell_type": "code",
   "execution_count": null,
   "metadata": {},
   "outputs": [],
   "source": [
    "# Add fake dates for year 1-- to enable time sensitive interpolation \n",
    "# of missing values in the pivot table\n",
    "year_doy = ['2100-{}'.format(x) for x in piv.index]\n",
    "y100_doy = pd.DatetimeIndex(pd.to_datetime(year_doy, format='%Y-%j'))\n",
    "\n",
    "# make a copy of the piv table and add two columns\n",
    "piv2 = piv.copy()\n",
    "piv2 = piv2.assign(d100 = y100_doy) # add the fake year dates\n",
    "piv2 = piv2.assign(doy = piv2.index) # add doy as a colum to replace as index later again\n",
    "\n",
    "# Set the index to the dummy year\n",
    "piv2.set_index('d100', inplace = True, drop = True)\n",
    "\n",
    "# PERFORM THE TIME WEIGHTED INTERPOLATION\n",
    "piv2 = piv2.interpolate(method = 'time') #TIME WEIGHTED INTERPOLATION!\n",
    "\n",
    "# Set the index back to day of year\n",
    "piv2.set_index('doy', inplace = True, drop = True)"
   ]
  },
  {
   "cell_type": "code",
   "execution_count": null,
   "metadata": {},
   "outputs": [],
   "source": [
    "print(piv2.head(10))\n",
    "print('...\\n',piv2.tail(10))"
   ]
  },
  {
   "cell_type": "code",
   "execution_count": null,
   "metadata": {},
   "outputs": [],
   "source": [
    "piv2.plot(figsize = (16,8))\n",
    "plt.title('Sentinel-1 C-VV Time Series backscatter Profile,\\\n",
    "Subset: 5, 20, 5, 5  ')\n",
    "plt.ylabel('$\\gamma^o$ [dB]')\n",
    "plt.xlabel('Day of Year')\n",
    "_ = plt.ylim(ylim)"
   ]
  },
  {
   "cell_type": "code",
   "execution_count": null,
   "metadata": {},
   "outputs": [],
   "source": [
    "# Difference between years\n",
    "# Set a dB change threshold\n",
    "thres = 3"
   ]
  },
  {
   "cell_type": "code",
   "execution_count": null,
   "metadata": {},
   "outputs": [],
   "source": [
    "diff1716 = (piv2.g0[2017]-piv2.g0[2016])"
   ]
  },
  {
   "cell_type": "code",
   "execution_count": null,
   "metadata": {},
   "outputs": [],
   "source": [
    "_ = diff1716.plot(kind = 'line')"
   ]
  },
  {
   "cell_type": "code",
   "execution_count": null,
   "metadata": {},
   "outputs": [],
   "source": [
    "thres_exceeded = diff1716[abs(diff1716) > thres]\n",
    "thres_exceeded"
   ]
  },
  {
   "cell_type": "code",
   "execution_count": null,
   "metadata": {},
   "outputs": [],
   "source": [
    "subset = (5, 20 , 3, 3)\n",
    "\n",
    "# subset = (12, 5, 3, 3)\n",
    "ts1 = timeSeries(rasterstack_pwr, tindex, subset)\n",
    "X = ts1[ts1.index>'2015-10-31']"
   ]
  },
  {
   "cell_type": "code",
   "execution_count": null,
   "metadata": {},
   "outputs": [],
   "source": [
    "Xr = X.rolling(5, center = True).median()\n",
    "Xr.plot()\n",
    "_= X.plot()"
   ]
  },
  {
   "cell_type": "code",
   "execution_count": null,
   "metadata": {},
   "outputs": [],
   "source": [
    "X = Xr # Uncomment if rolling mean is wanted for further computation\n",
    "Xmean = X.mean()"
   ]
  },
  {
   "cell_type": "code",
   "execution_count": null,
   "metadata": {},
   "outputs": [],
   "source": [
    "fig, ax = plt.subplots(figsize = (16,4))\n",
    "X.plot()\n",
    "plt.ylabel('$\\gamma^o$ [dB]')\n",
    "ax.axhline(Xmean, color = 'red')\n",
    "_ = plt.legend(['$\\gamma^o$','$\\overline{\\gamma^o}$'])"
   ]
  },
  {
   "cell_type": "code",
   "execution_count": null,
   "metadata": {},
   "outputs": [],
   "source": [
    "R = X - Xmean"
   ]
  },
  {
   "cell_type": "code",
   "execution_count": null,
   "metadata": {},
   "outputs": [],
   "source": [
    "S = R.cumsum()\n",
    "\n",
    "_ = S.plot(figsize = (16,8))"
   ]
  },
  {
   "cell_type": "code",
   "execution_count": null,
   "metadata": {},
   "outputs": [],
   "source": [
    "Sdiff = S.max() - S.min()\n",
    "Sdiff"
   ]
  },
  {
   "cell_type": "code",
   "execution_count": null,
   "metadata": {},
   "outputs": [],
   "source": [
    "t_cp_before = S[S == S.max()].index[0]\n",
    "print('Last date before change: {}'.format(t_cp_before.date()))"
   ]
  },
  {
   "cell_type": "code",
   "execution_count": null,
   "metadata": {},
   "outputs": [],
   "source": [
    "t_cp_after = S[S.index > t_cp_before].index[0]\n",
    "print('First date after change: {}'.format(t_cp_after.date()))"
   ]
  },
  {
   "cell_type": "code",
   "execution_count": null,
   "metadata": {},
   "outputs": [],
   "source": [
    "n_bootstraps = 500 # bootsrap sample size\n",
    "fig, ax =plt.subplots(figsize = (16,8))\n",
    "S.plot(ax = ax, linewidth = 3)\n",
    "ax.set_ylabel('Cumulative Sums of the Residuals')\n",
    "fig.legend(['S Curve for Candidate Change Point'],loc = 3)\n",
    "Sdiff_random_sum = 0\n",
    "Sdiff_random_max = 0 # To keep track of the maxium Sdiff of the bootstrapped sample\n",
    "n_Sdiff_gt_Sdiff_random = 0 # To keep track of the maxiu Sdiff of the bootstrapped sample\n",
    "\n",
    "for i in range(n_bootstraps):\n",
    "    Rrandom = R.sample(frac = 1) # Randomize the time steps of the residuals\n",
    "    Srandom = Rrandom.cumsum()\n",
    "    Sdiff_random = Srandom.max()-Srandom.min()\n",
    "    Sdiff_random_sum += Sdiff_random\n",
    "    if Sdiff_random > Sdiff_random_max:\n",
    "        Sdiff_random_max = Sdiff_random\n",
    "    if Sdiff > Sdiff_random:\n",
    "        n_Sdiff_gt_Sdiff_random +=1\n",
    "    Srandom.plot(ax = ax)\n",
    "_ = ax.axhline(Sdiff_random_sum/n_bootstraps)"
   ]
  },
  {
   "cell_type": "code",
   "execution_count": null,
   "metadata": {},
   "outputs": [],
   "source": [
    "CL = 1.*n_Sdiff_gt_Sdiff_random/n_bootstraps\n",
    "print('Confidence Level for change point {} percent'.format(CL*100.))"
   ]
  },
  {
   "cell_type": "code",
   "execution_count": null,
   "metadata": {},
   "outputs": [],
   "source": [
    "CP_significance = 1. - (Sdiff_random_sum/n_bootstraps)/Sdiff\n",
    "print('Change point significance metric: {}'.format(CP_significance))"
   ]
  },
  {
   "cell_type": "code",
   "execution_count": null,
   "metadata": {},
   "outputs": [],
   "source": [
    "# NaN's to be excluded in the computation\n",
    "S_ni = (S.abs()/S.abs().max()).cumsum().max()/len(S[S != np.nan])\n",
    "print('Normalized Integral of cumulative sum: {}'.format(S_ni))"
   ]
  },
  {
   "cell_type": "code",
   "execution_count": null,
   "metadata": {},
   "outputs": [],
   "source": [
    "means_pwr = np.mean(rasterstack_pwr, axis = (1, 2))\n",
    "means_dB = 10.*np.log10(means_pwr)\n",
    "gm_ts = pd.Series(means_dB, index = tindex)\n",
    "gm_ts = gm_ts[gm_ts.index > '2015-10-31'] # filter dates\n",
    "gm_ts = gm_ts.rolling(5, center = True).median()"
   ]
  },
  {
   "cell_type": "code",
   "execution_count": null,
   "metadata": {},
   "outputs": [],
   "source": [
    "gm_ts.plot()"
   ]
  },
  {
   "cell_type": "code",
   "execution_count": null,
   "metadata": {},
   "outputs": [],
   "source": [
    "X.plot()"
   ]
  },
  {
   "cell_type": "code",
   "execution_count": null,
   "metadata": {},
   "outputs": [],
   "source": [
    "Xd = X - gm_ts\n",
    "Xmean = Xd.mean()\n",
    "Xd.plot()"
   ]
  },
  {
   "cell_type": "code",
   "execution_count": null,
   "metadata": {},
   "outputs": [],
   "source": [
    "S = R.cumsum()\n",
    "\n",
    "_ = S.plot(figsize = (16,8))"
   ]
  },
  {
   "cell_type": "code",
   "execution_count": null,
   "metadata": {},
   "outputs": [],
   "source": [
    "Sdiff = S.max() - S.min()\n",
    "Sdiff"
   ]
  },
  {
   "cell_type": "code",
   "execution_count": null,
   "metadata": {},
   "outputs": [],
   "source": [
    "X = rasterstack_pwr\n",
    "# Filter out the first layer (Dates >= '2015-11-1')\n",
    "X_sub = X[1:,:,:]\n",
    "tindex_sub = tindex[1:]\n",
    "X = 10.*np.log10(X_sub)"
   ]
  },
  {
   "cell_type": "code",
   "execution_count": null,
   "metadata": {},
   "outputs": [],
   "source": [
    "plt.figure()\n",
    "# Indicate the band number\n",
    "bandnbr = 0\n",
    "vmin = np.percentile(X[bandnbr],5)\n",
    "vmax = np.percentile(X[bandnbr],95)\n",
    "plt.title('Band {} {}'.format(bandnbr+1, tindex_sub[bandnbr].date()))\n",
    "plt.imshow(X[0], cmap = 'gray', vmin = vmin, vmax = vmax)\n",
    "_ = plt.colorbar()"
   ]
  },
  {
   "cell_type": "code",
   "execution_count": null,
   "metadata": {},
   "outputs": [],
   "source": [
    "Xmean = np.mean(X, axis = 0)\n",
    "plt.figure()\n",
    "plt.imshow(Xmean, cmap = 'gray')"
   ]
  },
  {
   "cell_type": "code",
   "execution_count": null,
   "metadata": {},
   "outputs": [],
   "source": [
    "X.shape"
   ]
  },
  {
   "cell_type": "code",
   "execution_count": null,
   "metadata": {},
   "outputs": [],
   "source": [
    "R = X - Xmean"
   ]
  },
  {
   "cell_type": "code",
   "execution_count": null,
   "metadata": {},
   "outputs": [],
   "source": [
    "plt.imshow(R[0])\n",
    "plt.title('Residuals')\n",
    "_ = plt.colorbar()"
   ]
  },
  {
   "cell_type": "code",
   "execution_count": null,
   "metadata": {},
   "outputs": [],
   "source": [
    "S = np.cumsum(R,axis = 0)\n",
    "Smax = np.max(S, axis = 0)\n",
    "Smin = np.min(S, axis = 0)\n",
    "Sdiff = Smax - Smin\n",
    "fig, ax = plt.subplots(1,3,figsize = (16,4))\n",
    "vmin = Smin.min()\n",
    "vmax = Smax.max()\n",
    "p = ax[0].imshow(Smin, vmin = vmin, vmax = vmax)\n",
    "ax[0].set_title('$S_{max}$')\n",
    "ax[1].imshow(Smin, vmin = vmin, vmax = vmax)\n",
    "ax[1].set_title('$S_{min}$')\n",
    "ax[2].imshow(Sdiff, vmin = vmin, vmax = vmax)\n",
    "ax[2].set_title('$S_{diff}$')\n",
    "fig.subplots_adjust(right = 0.8)\n",
    "cbar_ax = fig.add_axes([0.85, 0.15, 0.05, 0.7])\n",
    "_ = fig.colorbar(p, cax = cbar_ax)"
   ]
  },
  {
   "cell_type": "code",
   "execution_count": null,
   "metadata": {},
   "outputs": [],
   "source": [
    "# Display the Sdiff histogram\n",
    "precentile = 50\n",
    "fig, ax = plt.subplots()\n",
    "h = ax.hist(Sdiff.flatten(), bins = 50)\n",
    "thres = np.percentile(h[1],50)\n",
    "print('At the {}% percentile, the threshold value is {:2.2f}'.format(precentile, thres))\n",
    "_ = ax.axvline(thres, color = 'red')"
   ]
  },
  {
   "cell_type": "code",
   "execution_count": null,
   "metadata": {},
   "outputs": [],
   "source": [
    "Sdiffmask = Sdiff<thres\n",
    "_ = plt.imshow(Sdiffmask, cmap = 'gray')"
   ]
  },
  {
   "cell_type": "code",
   "execution_count": null,
   "metadata": {},
   "outputs": [],
   "source": [
    "Rmask = np.broadcast_to(Sdiffmask, R.shape)"
   ]
  },
  {
   "cell_type": "code",
   "execution_count": null,
   "metadata": {},
   "outputs": [],
   "source": [
    "Rmasked = np.ma.array(R, mask = Rmask)"
   ]
  },
  {
   "cell_type": "code",
   "execution_count": null,
   "metadata": {},
   "outputs": [],
   "source": [
    "Smasked = np.ma.cumsum(Rmasked, axis = 0)"
   ]
  },
  {
   "cell_type": "code",
   "execution_count": null,
   "metadata": {},
   "outputs": [],
   "source": [
    "plt.imshow(Rmasked.mask[0], cmap = 'gray')"
   ]
  },
  {
   "cell_type": "code",
   "execution_count": null,
   "metadata": {},
   "outputs": [],
   "source": [
    "Smasked = np.ma.cumsum(Rmasked, axis = 0)\n",
    "Smasked_max = np.ma.max(Smasked, axis = 0)\n",
    "Smasked_min = np.ma.min(Smasked, axis = 0)\n",
    "Smasked_diff = Smasked_max - Smasked_min\n",
    "fig, ax = plt.subplots(1,3,figsize = (16,4))\n",
    "vmin = Smasked_min.min()\n",
    "vmax = Smasked_max.max()\n",
    "p = ax[0].imshow(Smasked_max, vmin = vmin, vmax = vmax)\n",
    "ax[0].set_title('$S_{max}$')\n",
    "ax[1].imshow(Smasked_min, vmin = vmin, vmax = vmax)\n",
    "ax[1].set_title('$S_{min}$')\n",
    "ax[2].imshow(Smasked_diff, vmin = vmin, vmax = vmax)\n",
    "ax[2].set_title('$S_{diff}$')\n",
    "fig.subplots_adjust(right = 0.8)\n",
    "cbar_ax = fig.add_axes([0.85, 0.15, 0.05, 0.7])\n",
    "_ = fig.colorbar(p, cax = cbar_ax)"
   ]
  },
  {
   "cell_type": "code",
   "execution_count": null,
   "metadata": {},
   "outputs": [],
   "source": [
    "random_index = np.random.permutation(Rmasked.shape[0])\n",
    "Rrandom= Rmasked[random_index, :, :]\n",
    "\n",
    "fig, ax = plt.subplots(1,2,figsize = (8, 4))\n",
    "ax[0].imshow(Rmasked[0])\n",
    "ax[0].set_title('Band 0')\n",
    "ax[1].imshow(Rrandom[0])\n",
    "_ = ax[1].set_title('Band 0 Randomized')"
   ]
  },
  {
   "cell_type": "code",
   "execution_count": null,
   "metadata": {},
   "outputs": [],
   "source": [
    "Smasked_max = np.ma.max(Smasked, axis = 0)"
   ]
  },
  {
   "cell_type": "code",
   "execution_count": null,
   "metadata": {},
   "outputs": [],
   "source": [
    "n_bootstraps=1000 # bootstrap sample size\n",
    "# to keep track of the maxium Sdiff of the bootstrapped sample:\n",
    "Sdiff_random_max = np.ma.copy(Smasked_diff)\n",
    "Sdiff_random_max[~Sdiff_random_max.mask]=0\n",
    "# to compute the Sdiff sums of the bootstrapped sample:\n",
    "Sdiff_random_sum = np.ma.copy(Smasked_diff)\n",
    "Sdiff_random_sum[~Sdiff_random_max.mask]=0\n",
    "# to keep track of the count of the bootstrapped sample\n",
    "n_Sdiff_gt_Sdiff_random = np.ma.copy(Smasked_diff)\n",
    "n_Sdiff_gt_Sdiff_random[~n_Sdiff_gt_Sdiff_random.mask]=0\n",
    "for i in range(n_bootstraps):\n",
    "    # For efficiency, we shuffle the time axis index and use that\n",
    "    #to randomize the masked array\n",
    "    random_index=np.random.permutation(Rmasked.shape[0])\n",
    "    # Randomize the time step of the residuals\n",
    "    Rrandom = Rmasked[random_index,:,:]\n",
    "    Srandom = np.ma.cumsum(Rrandom,axis=0)\n",
    "    Srandom_max=np.ma.max(Srandom,axis=0)\n",
    "    Srandom_min=np.ma.min(Srandom,axis=0)\n",
    "    Sdiff_random=Srandom_max-Srandom_min\n",
    "    Sdiff_random_sum += Sdiff_random\n",
    "    Sdiff_random_max[np.ma.greater(Sdiff_random,Sdiff_random_max)]=\\\n",
    "    Sdiff_random[np.ma.greater(Sdiff_random,Sdiff_random_max)]\n",
    "    n_Sdiff_gt_Sdiff_random[np.ma.greater(Smasked_diff,Sdiff_random)] += 1"
   ]
  },
  {
   "cell_type": "code",
   "execution_count": null,
   "metadata": {},
   "outputs": [],
   "source": [
    "CL = n_Sdiff_gt_Sdiff_random/n_bootstraps\n",
    "CP_significance = 1.-(Sdiff_random_sum/n_bootstraps)/Sdiff\n",
    "# Plot\n",
    "fig, ax = plt.subplots(1,3, figsize = (16,4))\n",
    "a = ax[0].imshow(CL*100)\n",
    "fig.colorbar(a, ax = ax[0])\n",
    "ax[0].set_title('Confidence Level %')\n",
    "a = ax[1].imshow(CP_significance)\n",
    "fig.colorbar(a, ax = ax[1])\n",
    "ax[1].set_title('Significance')\n",
    "a = ax[2].imshow(CL*CP_significance)\n",
    "fig.colorbar(a, ax = ax[2])\n",
    "_ = ax[2].set_title('CL x S')"
   ]
  },
  {
   "cell_type": "code",
   "execution_count": null,
   "metadata": {},
   "outputs": [],
   "source": [
    "cp_thres = 0.5"
   ]
  },
  {
   "cell_type": "code",
   "execution_count": null,
   "metadata": {},
   "outputs": [],
   "source": [
    "plt.imshow(CL*CP_significance < cp_thres, cmap = 'cool')"
   ]
  },
  {
   "cell_type": "code",
   "execution_count": null,
   "metadata": {},
   "outputs": [],
   "source": [
    "cp_mask = np.ma.mask_or(CL*CP_significance < cp_thres, CL.mask)\n",
    "cp_mask2 = np.broadcast_to(cp_mask, Smasked.shape)\n",
    "CPraster = np.ma.array(Smasked.data, mask = cp_mask2)"
   ]
  },
  {
   "cell_type": "code",
   "execution_count": null,
   "metadata": {},
   "outputs": [],
   "source": [
    "CP_index = np.ma.argmax(CPraster, axis = 0)\n",
    "change_indices = list(np.unique(CP_index))\n",
    "change_indices.remove(0)\n",
    "print(change_indices)\n",
    "# look up the dates from the indices to get the change dates\n",
    "alldates = tindex[tindex>'2015-10-31']\n",
    "change_dates = [str(alldates[x+1].date()) for x in change_indices]\n",
    "print(change_dates)"
   ]
  },
  {
   "cell_type": "code",
   "execution_count": null,
   "metadata": {},
   "outputs": [],
   "source": [
    "ticks = change_indices\n",
    "ticklabels = change_dates\n",
    "\n",
    "cmap = plt.cm.get_cmap('magma', ticks[-1])\n",
    "fig, ax = plt.subplots(figsize = (8,8))\n",
    "cax = ax.imshow(CP_index, interpolation = 'nearest', cmap = cmap)\n",
    "\n",
    "ax.set_title('Dates of Change')\n",
    "\n",
    "cbar = fig.colorbar(cax, ticks = ticks, orientation = 'horizontal')\n",
    "_ = cbar.ax.set_xticklabels(ticklabels, size = 10, rotation = 45, ha = 'right')"
   ]
  },
  {
   "cell_type": "code",
   "execution_count": null,
   "metadata": {},
   "outputs": [],
   "source": []
  }
 ],
 "metadata": {
  "kernelspec": {
   "display_name": "Python 3",
   "language": "python",
   "name": "python3"
  },
  "language_info": {
   "codemirror_mode": {
    "name": "ipython",
    "version": 3
   },
   "file_extension": ".py",
   "mimetype": "text/x-python",
   "name": "python",
   "nbconvert_exporter": "python",
   "pygments_lexer": "ipython3",
   "version": "3.8.6"
  }
 },
 "nbformat": 4,
 "nbformat_minor": 4
}
