{
 "cells": [
  {
   "cell_type": "code",
   "execution_count": null,
   "metadata": {},
   "outputs": [],
   "source": [
    "import pandas as pd\n",
    "import gdal\n",
    "import numpy as np\n",
    "import time, os, glob"
   ]
  },
  {
   "cell_type": "code",
   "execution_count": null,
   "metadata": {},
   "outputs": [],
   "source": [
    "%matplotlib inline\n",
    "import matplotlib.pylab as plt"
   ]
  },
  {
   "cell_type": "markdown",
   "metadata": {},
   "source": [
    "West Africa Biomass Site"
   ]
  },
  {
   "cell_type": "code",
   "execution_count": null,
   "metadata": {},
   "outputs": [],
   "source": [
    "datadirectory = '/Volumes/Salo/Salo_ai/SAR_CH3/wa_v2/BIOsS1'\n",
    "datefile = 'S32631X398020Y1315440sS1_A_vv_0001_mtfil.dates'\n",
    "imagefile='S32631X398020Y1315440sS1_A_vv_0001_mtfil.vrt'\n",
    "imagefile_cross='S32631X398020Y1315440sS1_A_vh_0001_mtfil.vrt'"
   ]
  },
  {
   "cell_type": "code",
   "execution_count": null,
   "metadata": {},
   "outputs": [],
   "source": [
    "os.chdir(datadirectory)"
   ]
  },
  {
   "cell_type": "code",
   "execution_count": null,
   "metadata": {},
   "outputs": [],
   "source": [
    "os.getcwd()"
   ]
  },
  {
   "cell_type": "code",
   "execution_count": null,
   "metadata": {},
   "outputs": [],
   "source": [
    "dates = open(datefile).readlines()\n",
    "tindex = pd.DatetimeIndex(dates)"
   ]
  },
  {
   "cell_type": "code",
   "execution_count": null,
   "metadata": {},
   "outputs": [],
   "source": [
    "# From the index we make and print a lookup table for\n",
    "# band numbers and dates\n",
    "j=1 \n",
    "print('Bands and dates for', imagefile)\n",
    "for i in tindex:\n",
    "    print(\"{:4d} {}\".format(j, i.date()), end ='')\n",
    "    j+=1\n",
    "    if j%5==1:print()"
   ]
  },
  {
   "cell_type": "code",
   "execution_count": null,
   "metadata": {},
   "outputs": [],
   "source": [
    "img = gdal.Open(imagefile)"
   ]
  },
  {
   "cell_type": "code",
   "execution_count": null,
   "metadata": {},
   "outputs": [],
   "source": [
    "print(img.RasterCount) # Number of Bands\n",
    "print(img.RasterXSize) # Number of Pixels\n",
    "print(img.RasterYSize) # Number of Lines"
   ]
  },
  {
   "cell_type": "code",
   "execution_count": null,
   "metadata": {},
   "outputs": [],
   "source": [
    "band = img.GetRasterBand(1)"
   ]
  },
  {
   "cell_type": "code",
   "execution_count": null,
   "metadata": {},
   "outputs": [],
   "source": [
    "raster = band.ReadAsArray()"
   ]
  },
  {
   "cell_type": "code",
   "execution_count": null,
   "metadata": {},
   "outputs": [],
   "source": [
    "raster_sub = band.ReadAsArray(5,20,5,5)"
   ]
  },
  {
   "cell_type": "code",
   "execution_count": null,
   "metadata": {},
   "outputs": [],
   "source": [
    "raster_sub"
   ]
  },
  {
   "cell_type": "code",
   "execution_count": null,
   "metadata": {},
   "outputs": [],
   "source": [
    "# These will select the two bands\n",
    "raster_1 = img.GetRasterBand(5).ReadAsArray()\n",
    "raster_2 = img.GetRasterBand(18).ReadAsArray()"
   ]
  },
  {
   "cell_type": "code",
   "execution_count": null,
   "metadata": {},
   "outputs": [],
   "source": [
    "fig = plt.figure(figsize=(16,8)) # Initialize figure with a size\n",
    "ax1 = fig.add_subplot(121) # 121 determines: 1 row, 2 plots, first plot\n",
    "ax2 = fig.add_subplot(122) # 122 determines: 1 row, 2 plots, second plot\n",
    "\n",
    "# First plot: Image\n",
    "bandnbr=5\n",
    "ax1.imshow(raster_1,cmap = 'gray', vmin = 2000, vmax = 8000)\n",
    "ax1.set_title('Image Band {} {}'.format(bandnbr,\n",
    "                                       tindex[bandnbr-1].date()))\n",
    "\n",
    "# Second Plot: Histogram\n",
    "# IMPORTANT: To get a histogram, we firest need to *flatten*\n",
    "# the two-dimensioanl image into a one dimenstional vector.\n",
    "h = ax2.hist(raster_1.flatten(), bins=100, range=(0,8000))\n",
    "ax2.xaxis.set_label_text(\"Amplitude (Uncalibrated DN Values)\")\n",
    "_ = ax2.set_title('Histogram Band {} {}'.format(bandnbr,\n",
    "                                               tindex[bandnbr-1].date()))"
   ]
  },
  {
   "cell_type": "code",
   "execution_count": null,
   "metadata": {},
   "outputs": [],
   "source": [
    "def showImage(raster, tindex, bandnbr, vmin = None, vmax = None):\n",
    "    fig = plt.figure(figsize = (16,8))\n",
    "    ax1 = fig.add_subplot(121)\n",
    "    ax2 = fig.add_subplot(122)\n",
    "    \n",
    "    ax1.imshow(raster, cmap = 'gray', vmin = vmin, vmax = vmax)\n",
    "    ax1.set_title('Image Band {} {}'.format(bandnbr,\n",
    "                                           tindex[bandnbr-1].date()))\n",
    "    vmin = np.percentile(raster,2) if vmin == None else vmin # Change vmin and vmax to change what value are displayed\n",
    "    vmax = np.percentile(raster, 98) if vmax == None else vmax \n",
    "    ax1.xaxis.set_label_text(\n",
    "    'Linear stretch Min = {} Max = {}'.format(vmin, vmax))\n",
    "    \n",
    "    \n",
    "    h = ax2.hist(raster.flatten(), bins = 100, range = (0, 8000))\n",
    "    ax2.xaxis.set_label_text('Amplitude (Uncalibrated DN Values)')\n",
    "    ax2.set_title('Histogram Band {} {}'.format(bandnbr,\n",
    "                                               tindex[bandnbr-1].date()))"
   ]
  },
  {
   "cell_type": "code",
   "execution_count": null,
   "metadata": {},
   "outputs": [],
   "source": [
    "# Enter Your Code Here\n",
    "\n",
    "bandnbr = 40\n",
    "raster = img.GetRasterBand(bandnbr).ReadAsArray()\n",
    "showImage(raster,tindex, bandnbr, 4000, 8000)"
   ]
  },
  {
   "cell_type": "code",
   "execution_count": null,
   "metadata": {},
   "outputs": [],
   "source": [
    "# These will select the first two bands\n",
    "raster_3 = img.GetRasterBand(1).ReadAsArray()\n",
    "raster_4 = img.GetRasterBand(2).ReadAsArray()"
   ]
  },
  {
   "cell_type": "code",
   "execution_count": null,
   "metadata": {},
   "outputs": [],
   "source": [
    "fig = plt.figure(figsize = (16,8))\n",
    "ax1 = fig.add_subplot(121)\n",
    "ax2 = fig.add_subplot(122)\n",
    "\n",
    "bandnbr = 1\n",
    "ax1.imshow(raster_3, cmap = 'gray', vmin = 2000, vmax = 8000)\n",
    "ax1.set_title('Image Band {} {}'.format(bandnbr,\n",
    "                                       tindex[bandnbr-1].date()))\n",
    "bandnbr = 2\n",
    "ax2.imshow(raster_4, cmap = 'gray', vmin = 2000, vmax = 8000)\n",
    "ax2.set_title('Image Band {} {}'.format(bandnbr,\n",
    "                                       tindex[bandnbr-1].date()))"
   ]
  },
  {
   "cell_type": "code",
   "execution_count": null,
   "metadata": {},
   "outputs": [],
   "source": [
    "img.GetRasterBand(1).DataType"
   ]
  },
  {
   "cell_type": "code",
   "execution_count": null,
   "metadata": {},
   "outputs": [],
   "source": [
    "(img.RasterCount*img.RasterXSize*img.RasterYSize*2)/(1024^3)"
   ]
  },
  {
   "cell_type": "code",
   "execution_count": null,
   "metadata": {},
   "outputs": [],
   "source": [
    "#  ALternatively you canmake a subset and use it in the ReadAsArray function prefixed with a star\n",
    "subset = (2000, 2000, 1024, 1024)\n",
    "rasterDN = img.ReadAsArray(*subset)"
   ]
  },
  {
   "cell_type": "code",
   "execution_count": null,
   "metadata": {},
   "outputs": [],
   "source": [
    "rasterDN.shape"
   ]
  },
  {
   "cell_type": "code",
   "execution_count": null,
   "metadata": {},
   "outputs": [],
   "source": [
    "rasterdB = 20*np.log10(rasterDN)-83"
   ]
  },
  {
   "cell_type": "code",
   "execution_count": null,
   "metadata": {},
   "outputs": [],
   "source": [
    "rasterPwr = np.power(10.,rasterdB/10.)"
   ]
  },
  {
   "cell_type": "code",
   "execution_count": null,
   "metadata": {},
   "outputs": [],
   "source": [
    "rasterAmp = np.sqrt(rasterPwr)"
   ]
  },
  {
   "cell_type": "code",
   "execution_count": null,
   "metadata": {},
   "outputs": [],
   "source": [
    "bandnbr = 20\n",
    "tindex[bandnbr-1]"
   ]
  },
  {
   "cell_type": "code",
   "execution_count": null,
   "metadata": {},
   "outputs": [],
   "source": [
    "fig = plt.figure(figsize = (16,16))\n",
    "\n",
    "ax1 = fig.add_subplot(221)\n",
    "ax2 = fig.add_subplot(222)\n",
    "ax3 = fig.add_subplot(223)\n",
    "ax4 = fig.add_subplot(224)\n",
    "\n",
    "ax1.imshow(rasterDN[bandnbr],cmap = 'gray',\n",
    "           vmin = np.percentile(rasterDN, 10),\n",
    "           vmax = np.percentile(rasterDN, 90))\n",
    "ax2.imshow(rasterAmp[bandnbr], cmap = 'gray',\n",
    "           vmin = np.percentile(rasterAmp, 10),\n",
    "           vmax = np.percentile(rasterAmp, 90))\n",
    "ax3.imshow(rasterPwr[bandnbr], cmap = 'gray',\n",
    "           vmin = np.percentile(rasterPwr, 10),\n",
    "           vmax = np.percentile(rasterPwr, 90))\n",
    "ax4.imshow(rasterdB[bandnbr], cmap = 'gray',\n",
    "          vmin = np.percentile(rasterdB, 10),\n",
    "          vmax = np.percentile(rasterdB, 90))\n",
    "\n",
    "ax1.set_title('DN Scaled (Amplitudes)')\n",
    "ax2.set_title('Amplitude Scaled')\n",
    "ax3.set_title('Power Scaled')\n",
    "_ = ax4.set_title('dB Scaled')"
   ]
  },
  {
   "cell_type": "code",
   "execution_count": null,
   "metadata": {},
   "outputs": [],
   "source": [
    "# Setup for three part figure\n",
    "fig=plt.figure(figsize=(16,4))\n",
    "fig.suptitle('Comparison of Histograms of SAR Backscatter in Different Scales',fontsize=14)\n",
    "ax1=fig.add_subplot(131)\n",
    "ax2=fig.add_subplot(132)\n",
    "ax3=fig.add_subplot(133)\n",
    "\n",
    "# Important to \"flatten\" the 2D raster image to produce a historgram\n",
    "ax1.hist(rasterAmp[bandnbr].flatten(),bins=100,range=(0.,0.6))\n",
    "ax2.hist(rasterPwr[bandnbr].flatten(),bins=100,range=(0.,0.25))\n",
    "ax3.hist(rasterdB[bandnbr].flatten(),bins=100,range=(-25,-5))\n",
    "\n",
    "# Means, medians and stddev\n",
    "amp_mean=rasterAmp[bandnbr].mean()\n",
    "amp_std=rasterAmp[bandnbr].std()\n",
    "pwr_mean=rasterPwr[bandnbr].mean()\n",
    "pwr_std=rasterPwr[bandnbr].std()\n",
    "dB_mean=rasterdB[bandnbr].mean()\n",
    "dB_std=rasterdB[bandnbr].std()\n",
    "\n",
    "# Some lines for mean and median\n",
    "ax1.axvline(amp_mean,color='red')\n",
    "ax1.axvline(np.median(rasterAmp[bandnbr]),color='blue')\n",
    "ax2.axvline(pwr_mean,color='red',label='Mean')\n",
    "ax2.axvline(np.median(rasterPwr[bandnbr]),color='blue',label='Median')\n",
    "ax3.axvline(dB_mean,color='red')\n",
    "ax3.axvline(np.median(rasterdB[bandnbr]),color='blue')\n",
    "\n",
    "# Lines for 1 stddev\n",
    "ax1.axvline(amp_mean-amp_std,color='gray')\n",
    "ax1.axvline(amp_mean+amp_std,color='gray')\n",
    "ax2.axvline(pwr_mean-pwr_std,color='gray',label='1 $\\sigma$')\n",
    "ax2.axvline(pwr_mean+pwr_std,color='gray')\n",
    "ax3.axvline(dB_mean-dB_std,color='gray')\n",
    "ax3.axvline(dB_mean+dB_std,color='gray')\n",
    "\n",
    "ax1.set_title('Amplitude Scaled')\n",
    "ax2.set_title('Power Scaled')\n",
    "ax3.set_title('dB Scaled')\n",
    "_=ax2.legend()"
   ]
  },
  {
   "cell_type": "code",
   "execution_count": null,
   "metadata": {},
   "outputs": [],
   "source": [
    "g1_dB = -10\n",
    "g2_dB = -15\n",
    "g1_pwr = np.power(10., -10/10.)\n",
    "g2_pwr = np.power(10.,-15/10.)\n",
    "\n",
    "mean_dB = (g1_dB + g2_dB)/2.\n",
    "mean_pwr = (g1_pwr + g2_pwr)/2.\n",
    "mean_pwr_indB = 10.*np.log10(mean_pwr)\n",
    "\n",
    "print('Mean averaging dB values.         : {:.1f}'.format(mean_dB))\n",
    "print('Mean averaging power values in dB : {:.1f}'.format(mean_pwr_indB))"
   ]
  },
  {
   "cell_type": "code",
   "execution_count": null,
   "metadata": {},
   "outputs": [],
   "source": [
    "offset = 500\n",
    "size = 5\n",
    "o1 = offset\n",
    "o2 = offset + size"
   ]
  },
  {
   "cell_type": "code",
   "execution_count": null,
   "metadata": {},
   "outputs": [],
   "source": [
    "mean_dB = rasterdB[:,o1:o2,o1:o2].mean()\n",
    "mean_dB"
   ]
  },
  {
   "cell_type": "code",
   "execution_count": null,
   "metadata": {},
   "outputs": [],
   "source": [
    "mean_pwr = rasterPwr[:,o1:o2,o1:o2].mean()\n",
    "mean_pwr_in_dB = 10. * np.log10(mean_pwr)\n",
    "mean_pwr_in_dB"
   ]
  },
  {
   "cell_type": "code",
   "execution_count": null,
   "metadata": {},
   "outputs": [],
   "source": [
    "img_like = gdal.Open(imagefile)\n",
    "img_cross = gdal.Open(imagefile_cross)\n",
    "# Pick the bands read te raster and convert to dB\n",
    "bandnbr_like = 20\n",
    "bandnbr_cross = 20\n",
    "r1 = img_like.GetRasterBand(bandnbr_like).ReadAsArray()\n",
    "rc = img_cross.GetRasterBand(bandnbr_cross).ReadAsArray()\n",
    "r1_dB = 20.*np.log10(r1)-83\n",
    "rc_dB = 20.*np.log10(rc)-83"
   ]
  },
  {
   "cell_type": "code",
   "execution_count": null,
   "metadata": {},
   "outputs": [],
   "source": [
    "fig, ax = plt.subplots(nrows = 2, ncols = 2, figsize = (16,16))\n",
    "fig.suptitle(\"Comparison of like and cross polarized sentinel-1 C-band data\", fontsize = 14)\n",
    "\n",
    "ax[0][0].set_title('C-VV Image')\n",
    "ax[0][1].set_title('C-VH Image')\n",
    "ax[1][0].set_title('C-VV Histogram')\n",
    "ax[1][1].set_title('C-VH Histogram')\n",
    "ax[0][0].axis('off')\n",
    "ax[0][1].axis('off')\n",
    "ax[0][0].imshow(r1_dB, vmin = -17.5,vmax = -5, cmap = 'gray')\n",
    "ax[0][1].imshow(rc_dB, vmin = -25, vmax = -10, cmap = 'gray')\n",
    "ax[1][0].hist(r1_dB.flatten(), range = (-25, -5), bins = 100)\n",
    "ax[1][1].hist(rc_dB.flatten(), range = (-25, -5), bins = 100)\n",
    "fig.tight_layout()"
   ]
  }
 ],
 "metadata": {
  "kernelspec": {
   "display_name": "Python 3",
   "language": "python",
   "name": "python3"
  },
  "language_info": {
   "codemirror_mode": {
    "name": "ipython",
    "version": 3
   },
   "file_extension": ".py",
   "mimetype": "text/x-python",
   "name": "python",
   "nbconvert_exporter": "python",
   "pygments_lexer": "ipython3",
   "version": "3.8.6"
  }
 },
 "nbformat": 4,
 "nbformat_minor": 4
}
