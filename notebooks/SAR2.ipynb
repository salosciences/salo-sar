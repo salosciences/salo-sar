{
 "cells": [
  {
   "cell_type": "code",
   "execution_count": null,
   "metadata": {},
   "outputs": [],
   "source": [
    "#  Turn in inline presentations\n",
    "%matplotlib"
   ]
  },
  {
   "cell_type": "code",
   "execution_count": null,
   "metadata": {},
   "outputs": [],
   "source": [
    "# Imports\n",
    "import os\n",
    "import time\n",
    "import gdal\n",
    "import pandas as pd\n",
    "\n",
    "import numpy as np \n",
    "import matplotlib.pyplot as plt\n",
    "import matplotlib.patches as patches # Needed to draw rectangles\n",
    "from matplotlib import animation, rc\n",
    "from IPython.display import HTML"
   ]
  },
  {
   "cell_type": "code",
   "execution_count": null,
   "metadata": {},
   "outputs": [],
   "source": [
    "os.chdir('/Users/jamesash/documents/Salo_ai/SAR_CH3/')\n",
    "if os.path.isdir('wa_v2') == False:\n",
    "    # output_dir = '/private/tmp'\n",
    "    output_dir = '/Users/jamesash/documents/Salo_ai/SAR_CH3/'\n",
    "    !wget https://gis1.servirglobal.net/TrainingMaterials/SAR/Data_ch3_wa.zip\n",
    "    !unzip Data_ch3_wa.zip\n",
    "    file_list = glob('Data_ch3_wa/*')\n",
    "    for files in file_list:\n",
    "        os.rename(file, output_dir + os.path.basename(file))\n",
    "else:\n",
    "    print(\"Files exist in directory\")"
   ]
  },
  {
   "cell_type": "code",
   "execution_count": null,
   "metadata": {},
   "outputs": [],
   "source": [
    "datadirectory = os.getcwd() + '/wa_v2/BIOsS1'\n",
    "datefile = 'S32631X398020Y1315440sS1_A_vv_0001_mtfil.dates'\n",
    "imagefile='S32631X398020Y1315440sS1_A_vv_0001_mtfil.vrt'\n",
    "subset = None"
   ]
  },
  {
   "cell_type": "code",
   "execution_count": null,
   "metadata": {},
   "outputs": [],
   "source": [
    "os.chdir(datadirectory)"
   ]
  },
  {
   "cell_type": "code",
   "execution_count": null,
   "metadata": {},
   "outputs": [],
   "source": [
    "# Get the date indices via pandas\n",
    "dates = open(datefile).readlines()\n",
    "tindex = pd.DatetimeIndex(dates)"
   ]
  },
  {
   "cell_type": "code",
   "execution_count": null,
   "metadata": {},
   "outputs": [],
   "source": [
    "tindex"
   ]
  },
  {
   "cell_type": "code",
   "execution_count": null,
   "metadata": {},
   "outputs": [],
   "source": [
    "#  Open the image and read the first raster band\n",
    "img = gdal.Open(imagefile)\n",
    "band = img.GetRasterBand(1)\n",
    "# Set the subset\n",
    "if subset == None:\n",
    "    subset = (0, 0, img.RasterXSize, img.RasterYSize)"
   ]
  },
  {
   "cell_type": "code",
   "execution_count": null,
   "metadata": {},
   "outputs": [],
   "source": [
    "subset"
   ]
  },
  {
   "cell_type": "code",
   "execution_count": null,
   "metadata": {},
   "outputs": [],
   "source": [
    "# Plot one band and subset outline to see which subset we are intersetedd in \n",
    "raster = band.ReadAsArray()\n",
    "vmin = np.percentile(raster.flatten(), 5)\n",
    "vmax = np.percentile(raster.flatten(), 95)\n",
    "fig = plt.figure(figsize = (10, 10))\n",
    "ax = fig.add_subplot(111)\n",
    "ax.imshow(raster, cmap = 'gray', vmin = vmin, vmax = vmax)\n",
    "# Plot the subset as rectangle\n",
    "_ = ax.add_patch(patches.Rectangle((subset[0], subset[1]), subset[2], subset[3], \n",
    "                                 fill = False, edgecolor = 'red'))"
   ]
  },
  {
   "cell_type": "code",
   "execution_count": null,
   "metadata": {},
   "outputs": [],
   "source": [
    "raster0 = band.ReadAsArray(*subset)\n",
    "bandnbr = 0 # Needed for updates\n",
    "rasterstack = img.ReadAsArray(*subset)"
   ]
  },
  {
   "cell_type": "code",
   "execution_count": null,
   "metadata": {},
   "outputs": [],
   "source": [
    "%%capture\n",
    "import matplotlib.pyplot as plt\n",
    "import matplotlib.animation\n",
    "import numpy as np\n",
    "\n",
    "\n",
    "fig = plt.figure(figsize = (10, 10))\n",
    "ax = fig.add_subplot(111)\n",
    "ax.axis('off')\n",
    "vmin = np.percentile(rasterstack.flatten(), 5)\n",
    "vmax = np.percentile(rasterstack.flatten(), 95)\n",
    "\n",
    "im = ax.imshow(raster0, cmap = 'gray', vmin = vmin, vmax = vmax)\n",
    "ax.set_title(\"{}\".format(tindex[0].date()))\n",
    "\n",
    "def animate(i):\n",
    "    ax.set_title(\"{}\".format(tindex[i].date()))\n",
    "    im.set_data(rasterstack[i])\n",
    "\n",
    "# Interval is given in milliseconds\n",
    "ani = matplotlib.animation.FuncAnimation(fig, animate,\n",
    "                                        frames = rasterstack.shape[0],\n",
    "                                        interval = 400)\n"
   ]
  },
  {
   "cell_type": "code",
   "execution_count": null,
   "metadata": {},
   "outputs": [],
   "source": [
    "rc('animation', embed_limit = 40971520.0) # We need to increase the limit to show the entire animation"
   ]
  },
  {
   "cell_type": "code",
   "execution_count": null,
   "metadata": {},
   "outputs": [],
   "source": [
    "from IPython.display import HTML\n",
    "HTML(ani.to_jshtml())"
   ]
  },
  {
   "cell_type": "code",
   "execution_count": null,
   "metadata": {},
   "outputs": [],
   "source": [
    "# 1. Conversion to Power\n",
    "caldB = -83\n",
    "calPwr = np.power(10.,caldB/10.)\n",
    "rasterstack_pwr = np.power(rasterstack, 2.)*calPwr\n",
    "\n",
    "# Compute Means\n",
    "rs_means_pwr = np.mean(rasterstack_pwr, axis = (1, 2))\n",
    "\n",
    "#  Convert to dB\n",
    "rs_means_dB = 10.*np.log10(rs_means_pwr)"
   ]
  },
  {
   "cell_type": "code",
   "execution_count": null,
   "metadata": {},
   "outputs": [],
   "source": [
    "rs_means_pwr.shape # Check that we got the means over time"
   ]
  },
  {
   "cell_type": "code",
   "execution_count": null,
   "metadata": {},
   "outputs": [],
   "source": [
    "fig = plt.figure(figsize = (16,4))\n",
    "ax1 = fig.add_subplot(111)\n",
    "ax1.plot(tindex, rs_means_pwr)\n",
    "ax1.set_xlabel('Date')\n",
    "ax1.set_ylabel('$\\overline{\\gamma^o}$ [power]')\n",
    "\n",
    "ax2 = ax1.twinx()\n",
    "ax2.plot(tindex, rs_means_dB, color = 'red')\n",
    "ax2.set_ylabel('$\\overline{\\gamma^o}$ [power]')\n",
    "fig.legend(['Power','dB'], loc = 1)\n",
    "plt.title('Time Series profile of average band backscatter $\\gamma^o$')"
   ]
  },
  {
   "cell_type": "code",
   "execution_count": null,
   "metadata": {},
   "outputs": [],
   "source": [
    "a = pd.Series(rs_means_dB, index = tindex)"
   ]
  },
  {
   "cell_type": "code",
   "execution_count": null,
   "metadata": {},
   "outputs": [],
   "source": [
    "a"
   ]
  },
  {
   "cell_type": "code",
   "execution_count": null,
   "metadata": {},
   "outputs": [],
   "source": [
    "%%capture\n",
    "import matplotlib.pyplot as plt\n",
    "import matplotlib.animation\n",
    "import numpy as np\n",
    "\n",
    "fig, (ax1, ax2) = plt.subplots(1, 2, figsize = (16, 4), gridspec_kw = {'width_ratios': [1, 3]})\n",
    "\n",
    "vmin = np.percentile(rasterstack.flatten(), 5)\n",
    "vmax = np.percentile(rasterstack.flatten(), 95)\n",
    "im = ax1.imshow(raster0, cmap = 'gray', vmin = vmin, vmax = vmax)\n",
    "ax1.set_title(\"{}\".format(tindex[0].date()))\n",
    "ax1.set_axis_off()\n",
    "\n",
    "ax2.axis([tindex[0], tindex[-1], rs_means_dB.min(), rs_means_dB.max()])\n",
    "ax2.set_ylabel('$\\overline{\\gamma^o}$ [dB]')\n",
    "ax2.set_xlabel('Date')\n",
    "ax2.set_ylim((-5, -15))\n",
    "l, = ax2.plot([],[])\n",
    "\n",
    "def animate(i):\n",
    "    ax1.set_title(\"{}\".format(tindex[i].date()))\n",
    "    im.set_data(rasterstack[i])\n",
    "    ax2.set_title(\"{}\".format(tindex[i].date()))\n",
    "    l.set_data(tindex[:(i+1)], rs_means_dB[:(i+1)])\n",
    "    \n",
    "ani = matplotlib.animation.FuncAnimation(fig, animate,\n",
    "                                        frames = rasterstack.shape[0],\n",
    "                                        interval = 400)"
   ]
  },
  {
   "cell_type": "code",
   "execution_count": null,
   "metadata": {},
   "outputs": [],
   "source": [
    "from IPython.display import HTML\n",
    "HTML(ani.to_jshtml())"
   ]
  }
 ],
 "metadata": {
  "kernelspec": {
   "display_name": "Python 3",
   "language": "python",
   "name": "python3"
  },
  "language_info": {
   "codemirror_mode": {
    "name": "ipython",
    "version": 3
   },
   "file_extension": ".py",
   "mimetype": "text/x-python",
   "name": "python",
   "nbconvert_exporter": "python",
   "pygments_lexer": "ipython3",
   "version": "3.8.6"
  }
 },
 "nbformat": 4,
 "nbformat_minor": 4
}
