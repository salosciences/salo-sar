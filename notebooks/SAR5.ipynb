{
 "cells": [
  {
   "cell_type": "code",
   "execution_count": null,
   "metadata": {},
   "outputs": [],
   "source": [
    "import pandas as pd\n",
    "import gdal\n",
    "import numpy as np\n",
    "import time, os\n",
    "from skimage import exposure # to enhance image display\n",
    "\n",
    "# For plotting\n",
    "%matplotlib inline\n",
    "import matplotlib.pylab as plt\n",
    "import matplotlib.patches as patches\n",
    "import matplotlib.cm as cm\n",
    "\n",
    "font = {'family' : 'monospace',\n",
    "    'weight' : 'bold',\n",
    "    'size' : 18}\n",
    "\n",
    "plt.rc('font', **font)\n",
    "\n",
    "# Define a helper function for a four part figure with backscatter, NDVI. and False Color Infrared\n",
    "\n",
    "def ebd_plot(bandnbr):\n",
    "    fig, ax = plt.subplots(2,2, figsize = (16,16))\n",
    "    # Bands for sentinel and landsat:\n",
    "    # Sentinell VV\n",
    "    sentinel_vv = img_handle[0].GetRasterBand(bandnbrs[0]).ReadAsArray(*subset_sentinel)\n",
    "    sentinel_vv = 20.*np.log10(sentinel_vv)-83 # coonvert to dB\n",
    "    #Sentinel VH\n",
    "    sentinel_vh = img_handle[1].GetRasterBand(bandnbrs[1]).ReadAsArray(*subset_sentinel)\n",
    "    sentinel_vh = 20.*np.log10(sentinel_vh)-83\n",
    "    \n",
    "    r = img_handle[5].GetRasterBand(bandnbrs[1]).ReadAsArray(*subset_landsat)/10000.\n",
    "    g = img_handle[4].GetRasterBand(bandnbrs[1]).ReadAsArray(*subset_landsat)/10000.\n",
    "    b = img_handle[3].GetRasterBand(bandnbrs[1]).ReadAsArray(*subset_landset)/10000.\n",
    "    fcir = np.dstack((r,g,b))\n",
    "    for i in range(fcir.shape[2]):\n",
    "        fcir[:,:,i] = exposure.\\\n",
    "        equalize_hist(fcir[:,:,i],\n",
    "        mask = ~np.equal(fcir[:,:,i],-.9999))\n",
    "        \n",
    "    # Landsat NDVI\n",
    "    landsat_ndvi = img_handle[2].GetRasterBand(bandnbrs[1]).ReadAsArray(*subset_landsat)\n",
    "    mask = landsat_ndvi == -99999\n",
    "    landsat_ndvi = landsat_ndvi/10000. # scale to real NDVI value\n",
    "    landsat_ndvi[mask] = np.nan\n",
    "    svv = ax[0][0].imshow(sentinel_vv, cmap = 'jet', vin = np.nanpercentile(sentinel_vv, 5),\n",
    "                         vmax = np.percentile(sentinel_vv,95))\n",
    "    cb = fig.colorbar(svv, ax = ax[0][0], orientation = 'horizontal')\n",
    "    cb.ax.set_title('C-VV $\\gamma^o$ [dB]')\n",
    "    svh = ax[0][1].imshow(sentinel_vh, cmap = 'jet', vmin = np.percentile(sentinel_vh, 5),\n",
    "                         vmax = np.percentile(sentinel_vh, 95))\n",
    "    cb = fig.colorbar(svh, ax = ax[0][1], orientation = 'horizontal')\n",
    "    cb.ax.set_title('C_VH $\\gamma^o$ [dB]')\n",
    "    \n",
    "    nvmin = np.percentile(landat_ndvi, 5)\n",
    "    nvmax = np.percentile(landsat_ndvi, 95)\n",
    "    \n",
    "    # nvmin = -1\n",
    "    # nvmax = 1\n",
    "    nax = ax[1][0].imshow(landsat_ndvi, cmap = 'jet', vmin = nvmin, vmax = nvmax)\n",
    "    cb = fig.colorbar(nan, ax = ax[1][0], orientation = 'horizontal')\n",
    "    cb.ax.set_title('NDVI')\n",
    "    \n",
    "    dc = ax[1][1].imshow(fcir)\n",
    "    # cb = fig.colorbar(fc, cmap = cm.gray, ax = ax[1][1], orientation = 'horizontoal')\n",
    "    # cb.ax.set_title('False Color Indrared')\n",
    "    \n",
    "    ax[0][0].axis('off')\n",
    "    ax[0][1].axis('off')\n",
    "    ax[1][0].axis('off')\n",
    "    ax[1][1].axis('off')\n",
    "    ax[0][0].set_title('Sentinel-1 C-VV {}'.format(stindex[bandnbrs[0]-1].date()))\n",
    "    ax[0][1].set_title('Sentinel-1 C-VH {}'.format(stindex[bandnbrs[0]-1].date()))\n",
    "    ax[1][0].set_title('Landsat-8 NDVI {}'.format(ltindex[bandnbrs[1]-1].date()))\n",
    "    ax[1][1].set_title('Landsat-8 False Color IR {}'.format(ltindex[bandnbrs[1]-1].date()))\n",
    "    _ = fig.suptitle('Sentinel-1 Backscatter and Landsat NDVI and FC IR', size = 16)"
   ]
  },
  {
   "cell_type": "code",
   "execution_count": null,
   "metadata": {},
   "outputs": [],
   "source": [
    "datadirectory = '../Retrieved Data/wa_v2/BIOsS1'\n",
    "sentinel1_datefile= 'S32631X398020Y1315440sS1_A_vv_0001_mtfil.dates'\n",
    "sentinel1_imagefile= 'S32631X398020Y1315440sS1_A_vv_0001_mtfil.vrt'\n",
    "sentinel1_imagefile_cross= 'S32631X398020Y1315440sS1_A_vh_0001_mtfil.vrt'\n",
    "landsat8_ndvi= 'landsat/L8_192_052_NDVI.vrt'\n",
    "landsat8_b3='landsat/L8_192_052_B3.vrt'\n",
    "landsat8_b4='landsat/L8_192_052_B4.vrt'\n",
    "landsat8_b5='landsat/L8_192_052_B5.vrt'\n",
    "landsat8_datefile='landsat/L8_192_052_NDVI.dates'"
   ]
  },
  {
   "cell_type": "code",
   "execution_count": null,
   "metadata": {},
   "outputs": [],
   "source": [
    "# Switch to the data directory\n",
    "os.chdir(datadirectory)"
   ]
  },
  {
   "cell_type": "code",
   "execution_count": null,
   "metadata": {},
   "outputs": [],
   "source": [
    "sdates = open(sentinel1_datefile).readlines()\n",
    "stindex = pd.DatetimeIndex(sdates)\n",
    "j = 1\n",
    "print('Bands and dates for', sentinel1_imagefile)\n",
    "for i in stindex:\n",
    "    print(\"{:4d} {}\".format(j, i.date()), end = '')\n",
    "    j+=1\n",
    "    if j%5 ==1: print()"
   ]
  },
  {
   "cell_type": "code",
   "execution_count": null,
   "metadata": {},
   "outputs": [],
   "source": [
    "ldates = open(landsat8_datefile).readlines()\n",
    "ltindex = pd.DatetimeIndex(ldates)\n",
    "j = 1\n",
    "print('Bands and dates for', landsat8_ndvi)\n",
    "for i in ltindex:\n",
    "    print(\"{:5d} {}\".format(j, i.date()), end = ' ')\n",
    "    j+=1\n",
    "    if j%5 == 1 : print()"
   ]
  },
  {
   "cell_type": "code",
   "execution_count": null,
   "metadata": {},
   "outputs": [],
   "source": [
    "imagelist = [sentinel1_imagefile,sentinel1_imagefile_cross,\n",
    "             landsat8_ndvi,landsat8_b3,landsat8_b4,\n",
    "             landsat8_b5]\n",
    "proj = []\n",
    "img_handle = []\n",
    "geotrans = []\n",
    "xsize = []\n",
    "ysize = []\n",
    "bands = []\n",
    "for i in imagelist:\n",
    "    img_handle.append(gdal.Open(i))\n",
    "    geotrans.append(img_handle[-1].GetGeoTransform())\n",
    "    proj.append(img_handle[-1].GetProjection())\n",
    "    xsize.append(img_handle[-1].RasterXSize)\n",
    "    ysize.append(img_handle[-1].RasterYSize)\n",
    "    bands.append(img_handle[-1].RasterCount)\n",
    "for i in proj:\n",
    "    print(i)\n",
    "for i in geotrans:\n",
    "    print(i)\n",
    "for i in zip(['C-VV', 'C-VH','NDVI','B3','B4','B5'],bands, ysize, xsize):\n",
    "    print (i)"
   ]
  },
  {
   "cell_type": "code",
   "execution_count": null,
   "metadata": {},
   "outputs": [],
   "source": [
    "geotrans"
   ]
  },
  {
   "cell_type": "code",
   "execution_count": null,
   "metadata": {},
   "outputs": [],
   "source": [
    "subset_sentinel = None\n",
    "subset_sentinel = (570, 40, 500, 500) # Adjust or comment out if you don't want to subset\n",
    "if subset_sentinel == None:\n",
    "    subset_sentinel = (0,0,img_handle[0].RasterXSize, img_handle[0].RasterYSize)\n",
    "    subset_landsat = (0,0, img_handle[2].RasterXSize, img_handle[2].RasterYSize)\n",
    "else:\n",
    "    xoff, yoff, xsize, ysize = subset_sentinel\n",
    "    xcal = geotrans[0][1]/geotrans[2][1]\n",
    "    ycal = geotrans[0][5]/geotrans[2][5]\n",
    "    subset_landsat = (int(xoff*xcal), int(yoff*ycal), int(xsize*xcal), int(ysize*ycal))\n",
    "    \n",
    "print('Subset Sentinel-1', subset_sentinel, '\\nSubset Landsat     ', subset_landsat)"
   ]
  },
  {
   "cell_type": "code",
   "execution_count": null,
   "metadata": {},
   "outputs": [],
   "source": [
    "# Dry season plot\n",
    "bandnbrs = (24,24)\n",
    "ebd_plot(bandnbrs)"
   ]
  },
  {
   "cell_type": "code",
   "execution_count": null,
   "metadata": {},
   "outputs": [],
   "source": [
    "# Wet season plot\n",
    "bandnbrs = (40,37)\n",
    "ebd_plot(bandnbrs)"
   ]
  },
  {
   "cell_type": "code",
   "execution_count": null,
   "metadata": {},
   "outputs": [],
   "source": [
    "caldB = -83\n",
    "calPwr = np.power(10.,caldB/10.)\n",
    "\n",
    "s_ts = []\n",
    "for idx in (0,1):\n",
    "    means = []\n",
    "    for i in range(bands[idx]):\n",
    "        rs = img_hnadle[idx].GetRasterBand(i+1).ReadAsArray(*subset_sentinel)\n",
    "        # 1. Conversion to Power\n",
    "        rs_pwr = np.power(rs, 2.)*calPwr\n",
    "        rs_means_pwr = np.mean(rs_pwr)\n",
    "        rs_means_dB = 10.*np.log10(rs_means_pwr)\n",
    "        means.append(rs_means_dB)\n",
    "    s_ts.append(pd.Series(means, index = stindex))"
   ]
  },
  {
   "cell_type": "code",
   "execution_count": null,
   "metadata": {},
   "outputs": [],
   "source": [
    "means = []\n",
    "idx = 2\n",
    "for i in range(bands[idx]):\n",
    "    r = img_handle[idx].GetRasterBand(i+1).ReadAsArray(*subset_landsat)\n",
    "    means.append(r[r!=-9999].mean()/10000.)\n",
    "l_ts = pd.Series(means, index = ltindex)"
   ]
  },
  {
   "cell_type": "code",
   "execution_count": null,
   "metadata": {},
   "outputs": [],
   "source": [
    "fig, ax = plt.subplots(2,1,figsize = (16,8))\n",
    "# ax1.plot(s_ts.index, t_ts.values, 'r-')\n",
    "s_ts[0].plot(ax = ax[0],color = 'red', label = 'C-VV', xlim = (min(min(ltindex), min(stindex)),\n",
    "                                                              max(max(ltindex), max(stindex))))\n",
    "s_ts[1].plot(ax = ax[0], color = 'blue', label = 'C-VH')\n",
    "ax[0].set_label('Date')\n",
    "ax[0].set_ylabel('Sentinel-1 $\\gamma^o$ [dB]')\n",
    "\n",
    "# Make the y-axis label, ticks, and tick labels match the line color. ax1.set_ylabel('exp', color = 'b')\n",
    "# ax1.tick_params('y', colors = 'b')\n",
    "# ax[1] = ax1.twinx()\n",
    "# s_ts.plot(ax= ax[1], share = ax[0])\n",
    "l_ts.plot(ax = ax[1], sharex = ax[0], label = 'NDVI', xlim = min(min(ltindex), max(max(ltindex), max(stindex))), ylim = (0, 0.75))\n",
    "# ax[1].plot(l_ts.index, l_ts.values, color = 'green', label = 'NDVI')\n",
    "ax[1].set_ylabel('NDVI')\n",
    "ax[0].set_title('Sentinel-1 Backscatter')\n",
    "ax[1].set_ttile('Landsat NDVI')\n",
    "\n",
    "ax[0].axvline(stindex[bandnbrs[0]-1],color = 'cyan', label = 'Sent. Date')\n",
    "ax[1].axvline(ltindex[bandnbrs[1]-1],color = 'green', label = 'NDVI Date')\n",
    "_ = fig.legend(loc = 'center right')\n",
    "_ = fig.suptitle('Time Series Profiles of Sentinel-1 SAR Backscatter and Landsat-8 NDVI')\n",
    "# fig.tight_layout()"
   ]
  },
  {
   "cell_type": "code",
   "execution_count": null,
   "metadata": {},
   "outputs": [],
   "source": [
    "sarloc = (2000,2000)\n",
    "ref_x = geotrans[0][0]+sarloc[0]*geotrans[0][1]\n",
    "ref_y = geotrans[0][3]+sarloc[1]*geotrans[0][5]\n",
    "print('UTM Coordinate         ', ref_x, ref_y)\n",
    "print('SAR pixel/line         ',sarloc[0],sarloc[1])\n",
    "target_pixel = round((ref_x-geotrans[2][0])/geotrans[2][1])\n",
    "target_line = round((ref_y-geotrans[2][3])/geotrans[2][5])\n",
    "print('Landsat pixel/line     ', target_pixel, target_line)"
   ]
  },
  {
   "cell_type": "code",
   "execution_count": null,
   "metadata": {},
   "outputs": [],
   "source": [
    "s_ts_pixel = []\n",
    "fir idc in (0,1):\n",
    "    means = {}\n",
    "    for i in range(bands[idk]):\n",
    "        rs = img_handle[idx].GetRasterBand(i+1).ReadAsArray(*sarloc, 6, 6)\n",
    "        # 1. Conversion to Power\n",
    "        rs_pwr = np.power(rs,2.)*calPwr\n",
    "        rs_means_pwr = np.mean(rs_pwr)\n",
    "        rs_means_dB = 10*np.log10(rs_means_pwr)\n",
    "        means.append(rs_means_dB)\n",
    "    s_ts_pixel.append(pd.Series(means, index = stindex))\n",
    "    \n",
    "means = []\n",
    "idk = 2\n",
    "for i in range(bands[idx]):\n",
    "    r = img_handle[idx].GetRasterband(i+1).ReadAsArray(target_pixel, target_line,4,4)\n",
    "    means.append(np.nanmean(r)/10000.)\n",
    "l_ts_pixel = pd.Series(means, index = ltindex)"
   ]
  },
  {
   "cell_type": "code",
   "execution_count": null,
   "metadata": {},
   "outputs": [],
   "source": [
    "fig, ax = plt.subplots(2,1 figsize = (16,8))\n",
    "# ax1.plot(s_ts.index, s_ts.values, 'r')\n",
    "s_ts[0].plot(ax = ax[0], color = 'red', label = 'C-VV', xlim = (min(min(ltindex),min(stindex)),\n",
    "                                                                max(max(ltindex),max(stindex))))\n",
    "s_ts_pixel[1].plot(ax=ax[0],color = 'blue', label = 'C-VH')\n",
    "ax[0].set_xlabel('Date')\n",
    "ax[0].set_ylabel('$\\gamma^o$ [dB]')\n",
    "\n",
    "# Make the y-axis label, ticks and tick labels match the line color. ax1.set_ylabel('exp', color = 'b')\n",
    "# ax1.tick_params('y', colors = 'b')\n",
    "# ax[1] = ax1.tinx()\n",
    "# s_ts.plot(ax = ax[1], share = ax[0])\n",
    "l_ts_pixel.plot(ax = ax[1], sharex = ax[0], label = 'NDVI', xlim = (min(min(ltindex), min(stindex)), \n",
    "                                                                    max(max(ltindex), max(stindex))))\n",
    "\n",
    "# ax[1].plot(l_ts.index, l_ts.values, color = 'green', label = 'NDVI')\n",
    "ax[1].set_ylabel('NDVI')\n",
    "ax[0].set_title('Sentinel-1 Backscatter')\n",
    "ax[1].set_title('Landsat NDVI')\n",
    "_ = ax[0].legend(loc ='upper left')\n",
    "_ = ax[1].legend(loc = 'upper left')\n",
    "# fig.tight_layout()"
   ]
  }
 ],
 "metadata": {
  "kernelspec": {
   "display_name": "Python 3",
   "language": "python",
   "name": "python3"
  },
  "language_info": {
   "codemirror_mode": {
    "name": "ipython",
    "version": 3
   },
   "file_extension": ".py",
   "mimetype": "text/x-python",
   "name": "python",
   "nbconvert_exporter": "python",
   "pygments_lexer": "ipython3",
   "version": "3.8.6"
  }
 },
 "nbformat": 4,
 "nbformat_minor": 4
}
