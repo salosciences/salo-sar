{
 "cells": [
  {
   "cell_type": "code",
   "execution_count": null,
   "metadata": {},
   "outputs": [],
   "source": [
    "import os, sys, gdal\n",
    "%matplotlib inline\n",
    "import matplotlib.pylab as plt\n",
    "import matplotlib.patches as patches\n",
    "from skimage import exposure\n",
    "import numpy as np\n",
    "import pandas as pd"
   ]
  },
  {
   "cell_type": "code",
   "execution_count": null,
   "metadata": {},
   "outputs": [],
   "source": [
    "# Select the project dataset and time series data\n"
   ]
  },
  {
   "cell_type": "code",
   "execution_count": null,
   "metadata": {},
   "outputs": [],
   "source": [
    "# West Africa - Biomass Site\n",
    "datapath = '/Volumes/Salo/Salo_ai/SAR_CH3/wa_v2/BIOsS1/'\n",
    "datefile='S32631X398020Y1315440sS1_A_vv_0001_mtfil.dates'\n",
    "imagefile_like='S32631X398020Y1315440sS1_A_vv_0001_mtfil.vrt'\n",
    "imagefile_cross='S32631X398020Y1315440sS1_A_vh_0001_mtfil.vrt'"
   ]
  },
  {
   "cell_type": "code",
   "execution_count": null,
   "metadata": {},
   "outputs": [],
   "source": [
    "os.chdir(datapath)"
   ]
  },
  {
   "cell_type": "code",
   "execution_count": null,
   "metadata": {},
   "outputs": [],
   "source": [
    "def CreateGeoTiff(Name, Array, DataType, NDV, bandnames = None, ref_image = None,\n",
    "                 GeoT = None, Projection = None):\n",
    "    # If it is a 2D image we fake a third demension\n",
    "    if len(Array.shape) == 2:\n",
    "        Array = np.array([Array])\n",
    "    if ref_image == None and (GeoT == None or Projection == None):\n",
    "        raise RuntimeWarning(\"ref_image or settings required.\")\n",
    "    if bandnames != None:\n",
    "        if len(bandnames) != Array.shape[0]:\n",
    "            raise RuntimeError('Need {} bandnames. {} given'\n",
    "                              .format(Array.shape[0], len(bandnames)))\n",
    "    else:\n",
    "        bandnames = ['Bnad {}'.format(i+1) for i in range(array.shape[0])]\n",
    "    if ref_image != None:\n",
    "        refimg = gdal.Open(ref_image)\n",
    "        Geot = refimg.GetGeoTransform()\n",
    "        Projection = refimg.GetProjection()\n",
    "    driver = gdal.GetDriverByName('GTIFF')\n",
    "    Array[np.isnan(Array)] = NDV\n",
    "    DataSet = driver.Create(Name,\n",
    "                           Array.shape[2], Array.shape[1], Array.shape[0], DataType)\n",
    "    DataSet.SetGeoTransform(GeoT)\n",
    "    DataSet.SetProjection(Projection)\n",
    "    for i, image in enumerate(Array, 1):\n",
    "        DataSet.GetRasterBand(i).WriteArray(image)\n",
    "        DataSet.GetRasterBand(i).SetNoDataValue(NDV)\n",
    "        DataSet.SetDescription(bandnames[i-1])\n",
    "    DataSet.FlushCache()\n",
    "    return Name"
   ]
  },
  {
   "cell_type": "code",
   "execution_count": null,
   "metadata": {},
   "outputs": [],
   "source": [
    "def dualpol2rgb(like, cross, sartype = 'amp', ndv = 0):\n",
    "    CF = np.power(10.,-8.3)\n",
    "    if np.isnan(ndv):\n",
    "        mask = np.isnana(cross)\n",
    "    else:\n",
    "        mask = np.equal(cross, ndv)\n",
    "        \n",
    "    l = np.ma.array(like, mask = mask, dtype = np.float32)\n",
    "    c = np.ma.array(cross, mask = mask, dtype = np.float32)\n",
    "    \n",
    "    if sartype == 'amp':\n",
    "        l = np.ma.power(l,2.)*CF\n",
    "        c = np.ma.power(l,2.)*CF\n",
    "    elif sartype == 'dB':\n",
    "        l = np.ma.power(10.,l/10.)\n",
    "        c = np.ma.power(10.,c/10.)\n",
    "    elif sartype == 'pwr':\n",
    "        pass\n",
    "    else:\n",
    "        print('invalid type ', sartype)\n",
    "        raise RuntimeError\n",
    "        \n",
    "    if sartype == 'amp':\n",
    "        ratio = np.ma.sqrt(1/c)/10\n",
    "        ratio[np.isinf(ratio.data)]=0.00001\n",
    "    elif sartype == 'dB':\n",
    "        ratio = 10.*np.ma.log10(1/c)\n",
    "    else:\n",
    "        ratio = 1/c\n",
    "    \n",
    "    ratio = ratio.filled(ndv)\n",
    "    \n",
    "    rgb = np.dstack((like, cross, ratio.data))\n",
    "    \n",
    "    \n",
    "    bandnames = ('Like', 'Cross', 'Ratio')\n",
    "    return rgb, bandnames, sartype\n",
    "\n",
    "\n",
    "def any2amp(raster,sartype = 'amp', ndv = 0):\n",
    "    CF = np.power(10., -8.3)\n",
    "    mask = raster == ndv\n",
    "    \n",
    "    if sartype == 'pwr':\n",
    "        raster = np.sqrt(raster/CF)\n",
    "    elif sartype == 'dB':\n",
    "        raster = np.ma.power(10., (raster+83)/20.)\n",
    "    elif sartype == 'amp':\n",
    "        pass\n",
    "    else:\n",
    "        print('invalid type ', sartype)\n",
    "        raise RuntimeError\n",
    "    \n",
    "    raster[raster < 1] = 1\n",
    "    raster[raster > 65535] = 65535\n",
    "    raster[mask] = 0\n",
    "    raster = np.ndarray.astype(raster, dtype = np.uint16)\n",
    "    return raster"
   ]
  },
  {
   "cell_type": "code",
   "execution_count": null,
   "metadata": {},
   "outputs": [],
   "source": [
    "# Get the date indices via pandas\n",
    "dates = open(datefile).readlines()\n",
    "tindex = pd.DatetimeIndex(dates)\n",
    "j = 1\n",
    "print('Band and dates for', imagefile_like)\n",
    "for i in tindex:\n",
    "    print('{:4d} {}'.format(j, i.date()), end = ' ')\n",
    "    j+=1\n",
    "    if j%5 ==1: print()"
   ]
  },
  {
   "cell_type": "code",
   "execution_count": null,
   "metadata": {},
   "outputs": [],
   "source": [
    "#  PICK A BAND NUMBER\n",
    "bandnbr = 1"
   ]
  },
  {
   "cell_type": "code",
   "execution_count": null,
   "metadata": {},
   "outputs": [],
   "source": [
    "img_like = gdal.Open(imagefile_like)\n",
    "img_cross = gdal.Open(imagefile_cross)\n",
    "# Get Dimensions\n",
    "print('Likepol ', img_like.RasterCount, img_like.RasterYSize, img_like.RasterXSize)\n",
    "print('Crosspol', img_cross.RasterCount, img_cross.RasterYSize, img_cross.RasterXSize)"
   ]
  },
  {
   "cell_type": "code",
   "execution_count": null,
   "metadata": {},
   "outputs": [],
   "source": [
    "subset = None\n",
    "# subset = (3500, 1000, 500, 500) #(xoff, yoff, xsize, ysize)\n",
    "if subset == None:\n",
    "    subset = (0,0, img_like.RasterXSize, img_like.RasterYSize)\n",
    "    \n",
    "\n",
    "raster = img_like.GetRasterBand(bandnbr).ReadAsArray()\n",
    "fig, ax = plt.subplots(figsize = (8,8))\n",
    "ax.set_title('Likepol full image {}'\n",
    "            .format(tindex[bandnbr-1].date()))\n",
    "ax.imshow(raster, cmap = 'gray', vmin = np.nanpercentile(raster, 5), vmax = np.nanpercentile(raster, 95))\n",
    "ax.grid(color = 'blue')\n",
    "ax.set_xlabel('Pixels')\n",
    "ax.set_ylabel('Lines')\n",
    "# Plot the subset as rectangle\n",
    "if subset != None:\n",
    "    _ = ax.add_patch(patches.Rectangle((subset[0], subset[1]), subset[2],subset[3], \n",
    "                                       fill = False, edgecolor = 'red', linewidth = 3))"
   ]
  },
  {
   "cell_type": "code",
   "execution_count": null,
   "metadata": {},
   "outputs": [],
   "source": [
    "raster_like = img_like.GetRasterBand(bandnbr).ReadAsArray(*subset)\n",
    "raster_cross = img_cross.GetRasterBand(bandnbr).ReadAsArray(*subset)"
   ]
  },
  {
   "cell_type": "code",
   "execution_count": null,
   "metadata": {},
   "outputs": [],
   "source": [
    "rgb, bandnames, sartype = dualpol2rgb(raster_like, raster_cross)"
   ]
  },
  {
   "cell_type": "code",
   "execution_count": null,
   "metadata": {},
   "outputs": [],
   "source": [
    "rgb_stretched = np.ndarray.astype(rgb.copy(), 'float32')\n",
    "# FOr each band we apply the strech\n",
    "for i in range(rgb_stretched.shape[2]):\n",
    "    rgb_stretched[:,:,i] = np.ndarray.astype(exposure.equalize_hist(rgb_stretched[:,:,i],\n",
    "                                                                    mask = ~np.equal(rgb_stretched[:,:,i], 0)), 'float32')"
   ]
  },
  {
   "cell_type": "code",
   "execution_count": null,
   "metadata": {},
   "outputs": [],
   "source": [
    "rgb_stretched"
   ]
  },
  {
   "cell_type": "code",
   "execution_count": null,
   "metadata": {},
   "outputs": [],
   "source": [
    "fig, ax = plt.subplots(1,2, figsize = (16,8))\n",
    "fig.suptitle('Multi-temporal Sentinel-1 Backscatter image R:{} G:{} B:{}'\n",
    "            .format(bandnames[0], bandnames[1], bandnames[2]))\n",
    "plt.axis('off')\n",
    "ax[0].hist(rgb[:,:,0].flatten(),\n",
    "           histtype = 'step', color = 'red', \n",
    "           bins = 100,range = (0, 10000))\n",
    "ax[0].hist(rgb[:,:,1].flatten(), \n",
    "           histtype = 'step', color = 'green',\n",
    "           bins = 100, range = (0, 10000))\n",
    "ax[0].hist(rgb[:,:,2].flatten(), \n",
    "          histtype = 'step', color = 'blue',\n",
    "          bins = 100, range = (0, 10000))\n",
    "ax[0].set_title('Histograms')\n",
    "ax[1].imshow(rgb_stretched)\n",
    "ax[1].set_title('Histogram Equalized')\n",
    "_ = ax[1].axis('off')"
   ]
  },
  {
   "cell_type": "code",
   "execution_count": null,
   "metadata": {},
   "outputs": [],
   "source": [
    "proj = img_like.GetProjection()\n",
    "geotrans = list(img_like.GetGeoTransform())\n",
    "\n",
    "subset_xoff = geotrans[0]+subset[0]*geotrans[1]\n",
    "subset_yoff = geotrans[3]+subset[1]*geotrans[5]\n",
    "geotrans[0] = subset_xoff\n",
    "geotrans[3] = subset_yoff\n",
    "geotrans = tuple(geotrans)\n",
    "geotrans"
   ]
  },
  {
   "cell_type": "code",
   "execution_count": null,
   "metadata": {},
   "outputs": [],
   "source": [
    "outbands = []\n",
    "for i in range(3):\n",
    "    outbands.append(any2amp(rgb[:,:,i]))\n",
    "    \n",
    "imagename = imagefile_like.replace('_vv_', '_lcr_').replace('.vrt', '_{}.tif'.format(dates[bandnbr-1].rstrip()))\n",
    "bandnames = ['Like', 'Cross', 'Ratio']\n",
    "Array = np.array(outbands)\n",
    "CreateGeoTiff(imagename, Array, gdal.GDT_UInt16,0, bandnames, GeoT = geotrans, Projection = proj)"
   ]
  },
  {
   "cell_type": "code",
   "execution_count": null,
   "metadata": {},
   "outputs": [],
   "source": []
  },
  {
   "cell_type": "code",
   "execution_count": null,
   "metadata": {},
   "outputs": [],
   "source": []
  }
 ],
 "metadata": {
  "kernelspec": {
   "display_name": "Python 3",
   "language": "python",
   "name": "python3"
  },
  "language_info": {
   "codemirror_mode": {
    "name": "ipython",
    "version": 3
   },
   "file_extension": ".py",
   "mimetype": "text/x-python",
   "name": "python",
   "nbconvert_exporter": "python",
   "pygments_lexer": "ipython3",
   "version": "3.8.6"
  }
 },
 "nbformat": 4,
 "nbformat_minor": 4
}
