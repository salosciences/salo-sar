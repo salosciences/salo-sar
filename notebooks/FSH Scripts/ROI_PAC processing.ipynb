{
 "cells": [
  {
   "cell_type": "code",
   "execution_count": null,
   "metadata": {},
   "outputs": [],
   "source": [
    "from FSH_Functions import *"
   ]
  },
  {
   "cell_type": "code",
   "execution_count": null,
   "metadata": {},
   "outputs": [],
   "source": [
    "datadirectory = \"../../Retrieved_Data/SAR_CH4/test_example_ISCE_insarApp/\"\n",
    "olddir = os.getcwd()\n",
    "os.chdir(datadirectory)"
   ]
  },
  {
   "cell_type": "code",
   "execution_count": null,
   "metadata": {},
   "outputs": [],
   "source": [
    "# ISCE\n",
    "forest_stand_height(3, 2, 2, 5, \"linkfile.txt\",\n",
    "                    \"flagfile.txt\", \"Howland_LVIS_NaN.tif\", \n",
    "                    \"Maine_NLCD2011_nonwildland.tif\", os.getcwd(), filetypes = ['json', 'kml', 'mat', 'tif'],\n",
    "                    flag_diff=1, flag_error=1, flag_proc=1)"
   ]
  },
  {
   "cell_type": "code",
   "execution_count": null,
   "metadata": {},
   "outputs": [],
   "source": [
    "listoffiles = [\"f890_o118/890_118_20070808_HV_20070923_HV_fsh.tif\", \"f890_o119/890_119_20070710_HV_20071010_HV_fsh.tif\", \"f890_o120/890_120_20070727_HV_20070911_HV_fsh.tif\"]\n",
    "create_mosaic(os.getcwd(), \"3sc_mosaic\", listoffiles = listoffiles)"
   ]
  }
 ],
 "metadata": {
  "kernelspec": {
   "display_name": "Python 3",
   "language": "python",
   "name": "python3"
  },
  "language_info": {
   "codemirror_mode": {
    "name": "ipython",
    "version": 3
   },
   "file_extension": ".py",
   "mimetype": "text/x-python",
   "name": "python",
   "nbconvert_exporter": "python",
   "pygments_lexer": "ipython3",
   "version": "3.8.8"
  }
 },
 "nbformat": 4,
 "nbformat_minor": 4
}
